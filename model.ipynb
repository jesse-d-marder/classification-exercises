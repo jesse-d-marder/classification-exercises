{
 "cells": [
  {
   "cell_type": "markdown",
   "id": "5a964f7c-2065-4b9f-86e7-bb254ec7a8c4",
   "metadata": {},
   "source": [
    "Model exercises"
   ]
  },
  {
   "cell_type": "code",
   "execution_count": 341,
   "id": "d896b594-a2b7-424e-a189-beb8b9cc1206",
   "metadata": {},
   "outputs": [],
   "source": [
    "import pandas as pd\n",
    "import numpy as np\n",
    "from acquire import get_telco_data, get_titantic_data\n",
    "from prepare import train_validate_test_split, prep_telco\n",
    "from sklearn.tree import DecisionTreeClassifier, plot_tree\n",
    "from sklearn.ensemble import RandomForestClassifier\n",
    "from sklearn.metrics import accuracy_score, classification_report, confusion_matrix\n",
    "import matplotlib.pyplot as plt\n",
    "import seaborn as sns"
   ]
  },
  {
   "cell_type": "markdown",
   "id": "89fe536b-163b-49d8-801a-f496b61df685",
   "metadata": {
    "tags": []
   },
   "source": [
    "## Using titantic"
   ]
  },
  {
   "cell_type": "code",
   "execution_count": 177,
   "id": "ec794190-db06-4f2e-b32a-fdc1a3cdd439",
   "metadata": {},
   "outputs": [
    {
     "name": "stdout",
     "output_type": "stream",
     "text": [
      "Using cached data\n"
     ]
    }
   ],
   "source": [
    "df = get_titantic_data()"
   ]
  },
  {
   "cell_type": "code",
   "execution_count": 178,
   "id": "8b7c1079-be7b-422f-8a8a-2e2acb3ac52c",
   "metadata": {},
   "outputs": [
    {
     "data": {
      "text/plain": [
       "(891, 13)"
      ]
     },
     "execution_count": 178,
     "metadata": {},
     "output_type": "execute_result"
    }
   ],
   "source": [
    "df.shape"
   ]
  },
  {
   "cell_type": "code",
   "execution_count": 179,
   "id": "f001ac65-5644-4f8c-9ddd-cc8aee95670d",
   "metadata": {},
   "outputs": [],
   "source": [
    "df = df.drop(columns = ['passenger_id','deck','embarked','class'])"
   ]
  },
  {
   "cell_type": "code",
   "execution_count": 180,
   "id": "e1c86ef2-2a59-44c3-9ce4-f8d8ab6c4b2b",
   "metadata": {},
   "outputs": [
    {
     "data": {
      "text/plain": [
       "(891, 9)"
      ]
     },
     "execution_count": 180,
     "metadata": {},
     "output_type": "execute_result"
    }
   ],
   "source": [
    "df.shape"
   ]
  },
  {
   "cell_type": "code",
   "execution_count": 181,
   "id": "b29308a1-65ff-484e-83b3-1d8dfafdafac",
   "metadata": {},
   "outputs": [
    {
     "data": {
      "text/plain": [
       "(712, 9)"
      ]
     },
     "execution_count": 181,
     "metadata": {},
     "output_type": "execute_result"
    }
   ],
   "source": [
    "df = df.dropna()\n",
    "df.shape"
   ]
  },
  {
   "cell_type": "code",
   "execution_count": 182,
   "id": "148a7abf-9122-4622-a65c-388a16885df1",
   "metadata": {},
   "outputs": [],
   "source": [
    "df = pd.get_dummies(df,columns = ['embark_town','sex'], drop_first=True)"
   ]
  },
  {
   "cell_type": "code",
   "execution_count": 183,
   "id": "5e5d5b96-2f43-4f08-a83e-d9d9df29f77b",
   "metadata": {},
   "outputs": [],
   "source": [
    "train, validate, test = train_validate_test_split(df, target = 'survived')"
   ]
  },
  {
   "cell_type": "code",
   "execution_count": 184,
   "id": "8347e585-5de7-42c5-8e78-5a1d180d5e13",
   "metadata": {},
   "outputs": [
    {
     "data": {
      "text/plain": [
       "((398, 10), (171, 10), (143, 10))"
      ]
     },
     "execution_count": 184,
     "metadata": {},
     "output_type": "execute_result"
    }
   ],
   "source": [
    "train.shape, validate.shape, test.shape"
   ]
  },
  {
   "cell_type": "markdown",
   "id": "7a2d7061-31ea-4aaa-96de-726c5912b0d3",
   "metadata": {},
   "source": [
    "1. What is your baseline prediction? What is your baseline accuracy? remember: your baseline prediction for a classification problem is predicting the most prevelant class in the training dataset (the mode). When you make those predictions, what is your accuracy? This is your baseline accuracy."
   ]
  },
  {
   "cell_type": "code",
   "execution_count": 185,
   "id": "c92d8ec5-dc7b-4831-b0c6-d43cfb5d179b",
   "metadata": {},
   "outputs": [
    {
     "data": {
      "text/plain": [
       "0    237\n",
       "1    161\n",
       "Name: survived, dtype: int64"
      ]
     },
     "execution_count": 185,
     "metadata": {},
     "output_type": "execute_result"
    }
   ],
   "source": [
    "train.survived.value_counts()"
   ]
  },
  {
   "cell_type": "code",
   "execution_count": 186,
   "id": "1d06d08f-07fd-4986-a55b-d08d1e083ab9",
   "metadata": {},
   "outputs": [],
   "source": [
    "# baseline is most common value - so 0, didn't survive\n",
    "train['baseline'] = 0"
   ]
  },
  {
   "cell_type": "code",
   "execution_count": 187,
   "id": "b6b9cb92-2b34-4c96-8f3e-bdbed79d3f85",
   "metadata": {},
   "outputs": [
    {
     "name": "stdout",
     "output_type": "stream",
     "text": [
      "Baseline accuracy is: 59.55%\n"
     ]
    }
   ],
   "source": [
    "print(f\"Baseline accuracy is: {(train.survived==train.baseline).mean():.2%}\")"
   ]
  },
  {
   "cell_type": "markdown",
   "id": "a23559c9-7432-4fa9-8f40-c556e7c8411a",
   "metadata": {},
   "source": [
    "2. Fit the decision tree classifier to your training sample and transform (i.e. make predictions on the training sample)"
   ]
  },
  {
   "cell_type": "code",
   "execution_count": 188,
   "id": "cc5858dd-fda7-42c6-a7cf-99bcda45cd53",
   "metadata": {},
   "outputs": [],
   "source": [
    "# Based on exploration believe that pclass, sex, and embark_town are features of interest\n",
    "selected_features = ['pclass','embark_town_Queenstown','embark_town_Southampton','sex_male']"
   ]
  },
  {
   "cell_type": "code",
   "execution_count": 189,
   "id": "61f8f597-d002-4fe2-87da-55b62c330563",
   "metadata": {},
   "outputs": [],
   "source": [
    "X_train = train[selected_features]\n",
    "y_train = train[['survived']]\n",
    "\n",
    "X_validate = validate[selected_features]\n",
    "y_validate = validate[['survived']]\n",
    "\n",
    "X_test = test[selected_features]\n",
    "y_test = test[['survived']]"
   ]
  },
  {
   "cell_type": "code",
   "execution_count": 190,
   "id": "ee7e55eb-5a7f-4e4e-990c-a9eadceb449a",
   "metadata": {},
   "outputs": [],
   "source": [
    "clf = DecisionTreeClassifier(max_depth=3, random_state=123)"
   ]
  },
  {
   "cell_type": "code",
   "execution_count": 191,
   "id": "9959674d-f744-4316-8222-c3430ecde403",
   "metadata": {},
   "outputs": [],
   "source": [
    "clf = clf.fit(X_train, y_train)"
   ]
  },
  {
   "cell_type": "code",
   "execution_count": 192,
   "id": "afa5a738-e87e-409a-bcbc-76bb065510d1",
   "metadata": {},
   "outputs": [],
   "source": [
    "y_pred = clf.predict(X_train)"
   ]
  },
  {
   "cell_type": "code",
   "execution_count": 193,
   "id": "97f35031-9aa9-472c-b009-4639f3d0373a",
   "metadata": {},
   "outputs": [
    {
     "data": {
      "text/plain": [
       "array([0, 0, 0, 0, 0, 0, 0, 0, 1, 0, 0, 0, 0, 1, 0, 0, 1, 0, 1, 0])"
      ]
     },
     "execution_count": 193,
     "metadata": {},
     "output_type": "execute_result"
    }
   ],
   "source": [
    "y_pred[0:20]"
   ]
  },
  {
   "cell_type": "markdown",
   "id": "0bba1e91-6a13-45c0-95b0-ba6082a8aaca",
   "metadata": {},
   "source": [
    "3. Evaluate your in-sample results using the model score, confusion matrix, and classification report."
   ]
  },
  {
   "cell_type": "code",
   "execution_count": 194,
   "id": "e604dfa4-455c-4cdb-942d-b23d5dca48f4",
   "metadata": {},
   "outputs": [
    {
     "data": {
      "text/html": [
       "<div>\n",
       "<style scoped>\n",
       "    .dataframe tbody tr th:only-of-type {\n",
       "        vertical-align: middle;\n",
       "    }\n",
       "\n",
       "    .dataframe tbody tr th {\n",
       "        vertical-align: top;\n",
       "    }\n",
       "\n",
       "    .dataframe thead th {\n",
       "        text-align: right;\n",
       "    }\n",
       "</style>\n",
       "<table border=\"1\" class=\"dataframe\">\n",
       "  <thead>\n",
       "    <tr style=\"text-align: right;\">\n",
       "      <th></th>\n",
       "      <th>pclass</th>\n",
       "      <th>embark_town_Queenstown</th>\n",
       "      <th>embark_town_Southampton</th>\n",
       "      <th>sex_male</th>\n",
       "    </tr>\n",
       "  </thead>\n",
       "  <tbody>\n",
       "    <tr>\n",
       "      <th>450</th>\n",
       "      <td>2</td>\n",
       "      <td>0</td>\n",
       "      <td>1</td>\n",
       "      <td>1</td>\n",
       "    </tr>\n",
       "    <tr>\n",
       "      <th>543</th>\n",
       "      <td>2</td>\n",
       "      <td>0</td>\n",
       "      <td>1</td>\n",
       "      <td>1</td>\n",
       "    </tr>\n",
       "    <tr>\n",
       "      <th>157</th>\n",
       "      <td>3</td>\n",
       "      <td>0</td>\n",
       "      <td>1</td>\n",
       "      <td>1</td>\n",
       "    </tr>\n",
       "    <tr>\n",
       "      <th>462</th>\n",
       "      <td>1</td>\n",
       "      <td>0</td>\n",
       "      <td>1</td>\n",
       "      <td>1</td>\n",
       "    </tr>\n",
       "    <tr>\n",
       "      <th>397</th>\n",
       "      <td>2</td>\n",
       "      <td>0</td>\n",
       "      <td>1</td>\n",
       "      <td>1</td>\n",
       "    </tr>\n",
       "    <tr>\n",
       "      <th>...</th>\n",
       "      <td>...</td>\n",
       "      <td>...</td>\n",
       "      <td>...</td>\n",
       "      <td>...</td>\n",
       "    </tr>\n",
       "    <tr>\n",
       "      <th>820</th>\n",
       "      <td>1</td>\n",
       "      <td>0</td>\n",
       "      <td>1</td>\n",
       "      <td>0</td>\n",
       "    </tr>\n",
       "    <tr>\n",
       "      <th>673</th>\n",
       "      <td>2</td>\n",
       "      <td>0</td>\n",
       "      <td>1</td>\n",
       "      <td>1</td>\n",
       "    </tr>\n",
       "    <tr>\n",
       "      <th>310</th>\n",
       "      <td>1</td>\n",
       "      <td>0</td>\n",
       "      <td>0</td>\n",
       "      <td>0</td>\n",
       "    </tr>\n",
       "    <tr>\n",
       "      <th>72</th>\n",
       "      <td>2</td>\n",
       "      <td>0</td>\n",
       "      <td>1</td>\n",
       "      <td>1</td>\n",
       "    </tr>\n",
       "    <tr>\n",
       "      <th>749</th>\n",
       "      <td>3</td>\n",
       "      <td>1</td>\n",
       "      <td>0</td>\n",
       "      <td>1</td>\n",
       "    </tr>\n",
       "  </tbody>\n",
       "</table>\n",
       "<p>398 rows × 4 columns</p>\n",
       "</div>"
      ],
      "text/plain": [
       "     pclass  embark_town_Queenstown  embark_town_Southampton  sex_male\n",
       "450       2                       0                        1         1\n",
       "543       2                       0                        1         1\n",
       "157       3                       0                        1         1\n",
       "462       1                       0                        1         1\n",
       "397       2                       0                        1         1\n",
       "..      ...                     ...                      ...       ...\n",
       "820       1                       0                        1         0\n",
       "673       2                       0                        1         1\n",
       "310       1                       0                        0         0\n",
       "72        2                       0                        1         1\n",
       "749       3                       1                        0         1\n",
       "\n",
       "[398 rows x 4 columns]"
      ]
     },
     "execution_count": 194,
     "metadata": {},
     "output_type": "execute_result"
    }
   ],
   "source": [
    "X_train"
   ]
  },
  {
   "cell_type": "code",
   "execution_count": 195,
   "id": "a5ac2804-b7ee-4dc2-b31e-202a22bf7269",
   "metadata": {},
   "outputs": [
    {
     "name": "stdout",
     "output_type": "stream",
     "text": [
      "Accuracy score on training set is: 80.15%\n"
     ]
    }
   ],
   "source": [
    "print(f\"Accuracy score on training set is: {clf.score(X_train, y_train):.2%}\")"
   ]
  },
  {
   "cell_type": "code",
   "execution_count": 196,
   "id": "ec5cdf79-cd85-41b0-a561-e4ced1dba91a",
   "metadata": {},
   "outputs": [
    {
     "data": {
      "text/html": [
       "<div>\n",
       "<style scoped>\n",
       "    .dataframe tbody tr th:only-of-type {\n",
       "        vertical-align: middle;\n",
       "    }\n",
       "\n",
       "    .dataframe tbody tr th {\n",
       "        vertical-align: top;\n",
       "    }\n",
       "\n",
       "    .dataframe thead th {\n",
       "        text-align: right;\n",
       "    }\n",
       "</style>\n",
       "<table border=\"1\" class=\"dataframe\">\n",
       "  <thead>\n",
       "    <tr style=\"text-align: right;\">\n",
       "      <th></th>\n",
       "      <th>0</th>\n",
       "      <th>1</th>\n",
       "    </tr>\n",
       "  </thead>\n",
       "  <tbody>\n",
       "    <tr>\n",
       "      <th>0</th>\n",
       "      <td>223</td>\n",
       "      <td>14</td>\n",
       "    </tr>\n",
       "    <tr>\n",
       "      <th>1</th>\n",
       "      <td>65</td>\n",
       "      <td>96</td>\n",
       "    </tr>\n",
       "  </tbody>\n",
       "</table>\n",
       "</div>"
      ],
      "text/plain": [
       "     0   1\n",
       "0  223  14\n",
       "1   65  96"
      ]
     },
     "execution_count": 196,
     "metadata": {},
     "output_type": "execute_result"
    }
   ],
   "source": [
    "labels = sorted(y_train.survived.unique())\n",
    "pd.DataFrame(confusion_matrix(y_train, y_pred), index = labels, columns = labels)"
   ]
  },
  {
   "cell_type": "code",
   "execution_count": 197,
   "id": "52eb6d62-bdfb-43c1-b223-978ffc52af70",
   "metadata": {},
   "outputs": [
    {
     "data": {
      "text/plain": [
       "(223, 14, 65, 96)"
      ]
     },
     "execution_count": 197,
     "metadata": {},
     "output_type": "execute_result"
    }
   ],
   "source": [
    "# rows are truth, columns are pred\n",
    "tn, fp, fn, tp = confusion_matrix(y_train, y_pred).ravel()\n",
    "(tn, fp, fn, tp)"
   ]
  },
  {
   "cell_type": "code",
   "execution_count": 198,
   "id": "c58e01f5-bd92-43a0-bc71-5573a56ec7d9",
   "metadata": {},
   "outputs": [
    {
     "name": "stdout",
     "output_type": "stream",
     "text": [
      "              precision    recall  f1-score   support\n",
      "\n",
      "           0       0.77      0.94      0.85       237\n",
      "           1       0.87      0.60      0.71       161\n",
      "\n",
      "    accuracy                           0.80       398\n",
      "   macro avg       0.82      0.77      0.78       398\n",
      "weighted avg       0.81      0.80      0.79       398\n",
      "\n"
     ]
    }
   ],
   "source": [
    "print(classification_report(y_train, y_pred))"
   ]
  },
  {
   "cell_type": "markdown",
   "id": "8cadc79e-1b05-4d9b-9da2-a855dc24c122",
   "metadata": {},
   "source": [
    "4. Compute: Accuracy, true positive rate, false positive rate, true negative rate, false negative rate, precision, recall, f1-score, and support.\n",
    "- False positive rate: How likely is it we get a false positive when the actual value is negative? FP/(FP+TN)"
   ]
  },
  {
   "cell_type": "code",
   "execution_count": 199,
   "id": "e56c3673-58a6-45ef-86da-18e6b2ccd6d5",
   "metadata": {},
   "outputs": [
    {
     "name": "stdout",
     "output_type": "stream",
     "text": [
      "False positive rate: 5.91%\n"
     ]
    }
   ],
   "source": [
    "print(f\"False positive rate: {fp/(fp+tn):.2%}\")"
   ]
  },
  {
   "cell_type": "markdown",
   "id": "c809856a-3da9-4b5c-8962-f0f485e01ac7",
   "metadata": {},
   "source": [
    "- False negative rate: How likely is it we get a false negative when the actual value is positive? FN/(FN+TP)"
   ]
  },
  {
   "cell_type": "code",
   "execution_count": 200,
   "id": "b6be0b1e-1545-4136-824c-2905c1e575f5",
   "metadata": {},
   "outputs": [
    {
     "name": "stdout",
     "output_type": "stream",
     "text": [
      "False negative rate: 40.37%\n"
     ]
    }
   ],
   "source": [
    "print(f\"False negative rate: {fn/(fn+tp):.2%}\")"
   ]
  },
  {
   "cell_type": "markdown",
   "id": "7e0b4d34-80b7-4e76-9f3c-ea58a7e56200",
   "metadata": {},
   "source": [
    "- True positive rate: How likely is it we get a true positive when the actual value is positive? This is sensitivity/recall. TP/(TP+FN)"
   ]
  },
  {
   "cell_type": "code",
   "execution_count": 201,
   "id": "c5edbfad-af00-4579-963f-ef826ce59e06",
   "metadata": {},
   "outputs": [
    {
     "name": "stdout",
     "output_type": "stream",
     "text": [
      "True positive rate: 59.63%\n"
     ]
    }
   ],
   "source": [
    "print(f\"True positive rate: {tp/(tp+fn):.2%}\")"
   ]
  },
  {
   "cell_type": "markdown",
   "id": "5e8dc6fe-afe5-4360-b1fa-baabdf2fcfab",
   "metadata": {},
   "source": [
    "- True negative rate: How likely is it we get a true positive when the actual value is positive? This is specificity/selectivity. TN/(TN+FP)"
   ]
  },
  {
   "cell_type": "code",
   "execution_count": 202,
   "id": "9bd437b7-d67d-42bb-9e7e-013c137d68cc",
   "metadata": {},
   "outputs": [
    {
     "name": "stdout",
     "output_type": "stream",
     "text": [
      "True negative rate: 94.09%\n"
     ]
    }
   ],
   "source": [
    "print(f\"True negative rate: {tn/(fp+tn):.2%}\")"
   ]
  },
  {
   "cell_type": "markdown",
   "id": "f55e221d-8e3c-487b-9901-57fb6b7bb67a",
   "metadata": {},
   "source": [
    "5. Run through steps 2-4 using a different max_depth value."
   ]
  },
  {
   "cell_type": "code",
   "execution_count": 209,
   "id": "ece77890-afe9-4d43-8b73-93b51c784031",
   "metadata": {},
   "outputs": [],
   "source": [
    "def decision_tree(train, d = 5, print_results = True):\n",
    "    \n",
    "    selected_features = ['pclass','embark_town_Queenstown','embark_town_Southampton','sex_male']\n",
    "    X_train = train[selected_features]\n",
    "    y_train = train[['survived']]\n",
    "    clf = DecisionTreeClassifier(max_depth=d, random_state=123)\n",
    "    clf = clf.fit(X_train, y_train)\n",
    "    y_pred = clf.predict(X_train)\n",
    "    if print_results:\n",
    "        print(\"TRAINING RESULTS\")\n",
    "        print(\"----------------\")\n",
    "        print(f\"Accuracy score on training set is: {clf.score(X_train, y_train):.2f}\")\n",
    "        print(classification_report(y_train, y_pred))\n",
    "\n",
    "        tn, fp, fn, tp = confusion_matrix(y_train, y_pred).ravel()\n",
    "\n",
    "        print(f\"False positive rate: {fp/(fp+tn):.2%}\")\n",
    "        print(f\"False negative rate: {fn/(fn+tp):.2%}\")\n",
    "        print(f\"True positive rate: {tp/(tp+fn):.2%}\")\n",
    "        print(f\"True negative rate: {tn/(fp+tn):.2%}\")\n",
    "        print(\"----------------\")\n",
    "    \n",
    "    return clf"
   ]
  },
  {
   "cell_type": "code",
   "execution_count": 210,
   "id": "848bcd79-5156-4c08-a717-c252d62075c1",
   "metadata": {},
   "outputs": [
    {
     "name": "stdout",
     "output_type": "stream",
     "text": [
      "For decision tree with depth 3:\n",
      "TRAINING RESULTS\n",
      "----------------\n",
      "Accuracy score on training set is: 0.80\n",
      "              precision    recall  f1-score   support\n",
      "\n",
      "           0       0.77      0.94      0.85       237\n",
      "           1       0.87      0.60      0.71       161\n",
      "\n",
      "    accuracy                           0.80       398\n",
      "   macro avg       0.82      0.77      0.78       398\n",
      "weighted avg       0.81      0.80      0.79       398\n",
      "\n",
      "False positive rate: 5.91%\n",
      "False negative rate: 40.37%\n",
      "True positive rate: 59.63%\n",
      "True negative rate: 94.09%\n",
      "----------------\n",
      "For decision tree with depth 5:\n",
      "TRAINING RESULTS\n",
      "----------------\n",
      "Accuracy score on training set is: 0.80\n",
      "              precision    recall  f1-score   support\n",
      "\n",
      "           0       0.77      0.96      0.85       237\n",
      "           1       0.90      0.58      0.70       161\n",
      "\n",
      "    accuracy                           0.80       398\n",
      "   macro avg       0.84      0.77      0.78       398\n",
      "weighted avg       0.82      0.80      0.79       398\n",
      "\n",
      "False positive rate: 4.22%\n",
      "False negative rate: 42.24%\n",
      "True positive rate: 57.76%\n",
      "True negative rate: 95.78%\n",
      "----------------\n"
     ]
    }
   ],
   "source": [
    "for i in [3,5]:\n",
    "    print(f'For decision tree with depth {i}:')\n",
    "    decision_tree(train, d = i)\n"
   ]
  },
  {
   "cell_type": "markdown",
   "id": "03037b93-ddc2-42ad-b472-f3bfc29f7e06",
   "metadata": {},
   "source": [
    "6. Which model performs better on your in-sample data?"
   ]
  },
  {
   "cell_type": "markdown",
   "id": "c8545af5-dbc9-4110-a766-c604f70240e1",
   "metadata": {},
   "source": [
    "### Between decision trees with depth of 3 and 5:\n",
    "    - with depth 5 accuracy is barely better at 80.4% compared to 80.15%\n",
    "    - fairly even performance otherwise - higher true negative rate for depth 5 but lower true positive rate\n",
    "    - depth 5 has better precision but lower recall\n"
   ]
  },
  {
   "cell_type": "markdown",
   "id": "58f2d32b-27f4-4ccc-975f-51f493a22a74",
   "metadata": {},
   "source": [
    "7. Which model performs best on your out-of-sample data, the validate set?"
   ]
  },
  {
   "cell_type": "code",
   "execution_count": 211,
   "id": "670693e0-6997-454c-97b7-7599f705883a",
   "metadata": {},
   "outputs": [],
   "source": [
    "def validate_results(d):\n",
    "    clf = decision_tree(train, d = d, print_results = False)\n",
    "    print('')\n",
    "    print(f'For decision tree of depth: {clf.max_depth}')\n",
    "    print('VALIDATE RESULTS')\n",
    "    print('Accuracy of Decision Tree classifier on validate set: {:.2f}'\n",
    "         .format(clf.score(X_validate, y_validate)))\n",
    "    # And since accuracy isn't everything\n",
    "\n",
    "    # Produce y_predictions that come from the X_validate\n",
    "    y_pred = clf.predict(X_validate)\n",
    "\n",
    "    # Compare actual y values (from validate) to predicted y_values from the model run on X_validate\n",
    "    print(classification_report(y_validate, y_pred))"
   ]
  },
  {
   "cell_type": "code",
   "execution_count": 212,
   "id": "fad0100d-f199-45e1-8e71-aa3c891174a6",
   "metadata": {},
   "outputs": [
    {
     "name": "stdout",
     "output_type": "stream",
     "text": [
      "\n",
      "For decision tree of depth: 3\n",
      "VALIDATE RESULTS\n",
      "Accuracy of Decision Tree classifier on validate set: 0.78\n",
      "              precision    recall  f1-score   support\n",
      "\n",
      "           0       0.74      0.98      0.84       102\n",
      "           1       0.94      0.49      0.65        69\n",
      "\n",
      "    accuracy                           0.78       171\n",
      "   macro avg       0.84      0.74      0.75       171\n",
      "weighted avg       0.82      0.78      0.76       171\n",
      "\n",
      "\n",
      "For decision tree of depth: 5\n",
      "VALIDATE RESULTS\n",
      "Accuracy of Decision Tree classifier on validate set: 0.77\n",
      "              precision    recall  f1-score   support\n",
      "\n",
      "           0       0.73      0.98      0.84       102\n",
      "           1       0.94      0.46      0.62        69\n",
      "\n",
      "    accuracy                           0.77       171\n",
      "   macro avg       0.84      0.72      0.73       171\n",
      "weighted avg       0.82      0.77      0.75       171\n",
      "\n"
     ]
    }
   ],
   "source": [
    "for i in [3,5]:\n",
    "    validate_results(i)\n"
   ]
  },
  {
   "cell_type": "markdown",
   "id": "961fc66b-55b0-4db4-bef1-7f7abf2eeab2",
   "metadata": {},
   "source": [
    "### Depth 3 has slightly better accuracy than depth 5. Precision is equal for the two depths, recall slightly better for depth 3. I'd say depth 3 is slightly better."
   ]
  },
  {
   "cell_type": "code",
   "execution_count": 213,
   "id": "6a3adfbc-2cf8-4bd6-aab7-eb087aa3b1f0",
   "metadata": {},
   "outputs": [
    {
     "name": "stdout",
     "output_type": "stream",
     "text": [
      "Using cached data\n"
     ]
    }
   ],
   "source": [
    "telco = get_telco_data()"
   ]
  },
  {
   "cell_type": "code",
   "execution_count": 214,
   "id": "1f513617-b148-4661-aa8c-1c945fe6cbb5",
   "metadata": {},
   "outputs": [
    {
     "data": {
      "text/html": [
       "<div>\n",
       "<style scoped>\n",
       "    .dataframe tbody tr th:only-of-type {\n",
       "        vertical-align: middle;\n",
       "    }\n",
       "\n",
       "    .dataframe tbody tr th {\n",
       "        vertical-align: top;\n",
       "    }\n",
       "\n",
       "    .dataframe thead th {\n",
       "        text-align: right;\n",
       "    }\n",
       "</style>\n",
       "<table border=\"1\" class=\"dataframe\">\n",
       "  <thead>\n",
       "    <tr style=\"text-align: right;\">\n",
       "      <th></th>\n",
       "      <th>payment_type_id</th>\n",
       "      <th>internet_service_type_id</th>\n",
       "      <th>contract_type_id</th>\n",
       "      <th>customer_id</th>\n",
       "      <th>gender</th>\n",
       "      <th>senior_citizen</th>\n",
       "      <th>partner</th>\n",
       "      <th>dependents</th>\n",
       "      <th>tenure</th>\n",
       "      <th>phone_service</th>\n",
       "      <th>...</th>\n",
       "      <th>tech_support</th>\n",
       "      <th>streaming_tv</th>\n",
       "      <th>streaming_movies</th>\n",
       "      <th>paperless_billing</th>\n",
       "      <th>monthly_charges</th>\n",
       "      <th>total_charges</th>\n",
       "      <th>churn</th>\n",
       "      <th>contract_type</th>\n",
       "      <th>internet_service_type</th>\n",
       "      <th>payment_type</th>\n",
       "    </tr>\n",
       "  </thead>\n",
       "  <tbody>\n",
       "    <tr>\n",
       "      <th>0</th>\n",
       "      <td>2</td>\n",
       "      <td>1</td>\n",
       "      <td>2</td>\n",
       "      <td>0002-ORFBO</td>\n",
       "      <td>Female</td>\n",
       "      <td>0</td>\n",
       "      <td>Yes</td>\n",
       "      <td>Yes</td>\n",
       "      <td>9</td>\n",
       "      <td>Yes</td>\n",
       "      <td>...</td>\n",
       "      <td>Yes</td>\n",
       "      <td>Yes</td>\n",
       "      <td>No</td>\n",
       "      <td>Yes</td>\n",
       "      <td>65.6</td>\n",
       "      <td>593.3</td>\n",
       "      <td>No</td>\n",
       "      <td>One year</td>\n",
       "      <td>DSL</td>\n",
       "      <td>Mailed check</td>\n",
       "    </tr>\n",
       "    <tr>\n",
       "      <th>1</th>\n",
       "      <td>2</td>\n",
       "      <td>1</td>\n",
       "      <td>1</td>\n",
       "      <td>0003-MKNFE</td>\n",
       "      <td>Male</td>\n",
       "      <td>0</td>\n",
       "      <td>No</td>\n",
       "      <td>No</td>\n",
       "      <td>9</td>\n",
       "      <td>Yes</td>\n",
       "      <td>...</td>\n",
       "      <td>No</td>\n",
       "      <td>No</td>\n",
       "      <td>Yes</td>\n",
       "      <td>No</td>\n",
       "      <td>59.9</td>\n",
       "      <td>542.4</td>\n",
       "      <td>No</td>\n",
       "      <td>Month-to-month</td>\n",
       "      <td>DSL</td>\n",
       "      <td>Mailed check</td>\n",
       "    </tr>\n",
       "    <tr>\n",
       "      <th>2</th>\n",
       "      <td>1</td>\n",
       "      <td>2</td>\n",
       "      <td>1</td>\n",
       "      <td>0004-TLHLJ</td>\n",
       "      <td>Male</td>\n",
       "      <td>0</td>\n",
       "      <td>No</td>\n",
       "      <td>No</td>\n",
       "      <td>4</td>\n",
       "      <td>Yes</td>\n",
       "      <td>...</td>\n",
       "      <td>No</td>\n",
       "      <td>No</td>\n",
       "      <td>No</td>\n",
       "      <td>Yes</td>\n",
       "      <td>73.9</td>\n",
       "      <td>280.85</td>\n",
       "      <td>Yes</td>\n",
       "      <td>Month-to-month</td>\n",
       "      <td>Fiber optic</td>\n",
       "      <td>Electronic check</td>\n",
       "    </tr>\n",
       "    <tr>\n",
       "      <th>3</th>\n",
       "      <td>1</td>\n",
       "      <td>2</td>\n",
       "      <td>1</td>\n",
       "      <td>0011-IGKFF</td>\n",
       "      <td>Male</td>\n",
       "      <td>1</td>\n",
       "      <td>Yes</td>\n",
       "      <td>No</td>\n",
       "      <td>13</td>\n",
       "      <td>Yes</td>\n",
       "      <td>...</td>\n",
       "      <td>No</td>\n",
       "      <td>Yes</td>\n",
       "      <td>Yes</td>\n",
       "      <td>Yes</td>\n",
       "      <td>98.0</td>\n",
       "      <td>1237.85</td>\n",
       "      <td>Yes</td>\n",
       "      <td>Month-to-month</td>\n",
       "      <td>Fiber optic</td>\n",
       "      <td>Electronic check</td>\n",
       "    </tr>\n",
       "    <tr>\n",
       "      <th>4</th>\n",
       "      <td>2</td>\n",
       "      <td>2</td>\n",
       "      <td>1</td>\n",
       "      <td>0013-EXCHZ</td>\n",
       "      <td>Female</td>\n",
       "      <td>1</td>\n",
       "      <td>Yes</td>\n",
       "      <td>No</td>\n",
       "      <td>3</td>\n",
       "      <td>Yes</td>\n",
       "      <td>...</td>\n",
       "      <td>Yes</td>\n",
       "      <td>Yes</td>\n",
       "      <td>No</td>\n",
       "      <td>Yes</td>\n",
       "      <td>83.9</td>\n",
       "      <td>267.4</td>\n",
       "      <td>Yes</td>\n",
       "      <td>Month-to-month</td>\n",
       "      <td>Fiber optic</td>\n",
       "      <td>Mailed check</td>\n",
       "    </tr>\n",
       "  </tbody>\n",
       "</table>\n",
       "<p>5 rows × 24 columns</p>\n",
       "</div>"
      ],
      "text/plain": [
       "   payment_type_id  internet_service_type_id  contract_type_id customer_id  \\\n",
       "0                2                         1                 2  0002-ORFBO   \n",
       "1                2                         1                 1  0003-MKNFE   \n",
       "2                1                         2                 1  0004-TLHLJ   \n",
       "3                1                         2                 1  0011-IGKFF   \n",
       "4                2                         2                 1  0013-EXCHZ   \n",
       "\n",
       "   gender  senior_citizen partner dependents  tenure phone_service  ...  \\\n",
       "0  Female               0     Yes        Yes       9           Yes  ...   \n",
       "1    Male               0      No         No       9           Yes  ...   \n",
       "2    Male               0      No         No       4           Yes  ...   \n",
       "3    Male               1     Yes         No      13           Yes  ...   \n",
       "4  Female               1     Yes         No       3           Yes  ...   \n",
       "\n",
       "  tech_support streaming_tv streaming_movies paperless_billing  \\\n",
       "0          Yes          Yes               No               Yes   \n",
       "1           No           No              Yes                No   \n",
       "2           No           No               No               Yes   \n",
       "3           No          Yes              Yes               Yes   \n",
       "4          Yes          Yes               No               Yes   \n",
       "\n",
       "  monthly_charges total_charges churn   contract_type  internet_service_type  \\\n",
       "0            65.6         593.3    No        One year                    DSL   \n",
       "1            59.9         542.4    No  Month-to-month                    DSL   \n",
       "2            73.9        280.85   Yes  Month-to-month            Fiber optic   \n",
       "3            98.0       1237.85   Yes  Month-to-month            Fiber optic   \n",
       "4            83.9         267.4   Yes  Month-to-month            Fiber optic   \n",
       "\n",
       "       payment_type  \n",
       "0      Mailed check  \n",
       "1      Mailed check  \n",
       "2  Electronic check  \n",
       "3  Electronic check  \n",
       "4      Mailed check  \n",
       "\n",
       "[5 rows x 24 columns]"
      ]
     },
     "execution_count": 214,
     "metadata": {},
     "output_type": "execute_result"
    }
   ],
   "source": [
    "telco.head()"
   ]
  },
  {
   "cell_type": "code",
   "execution_count": 215,
   "id": "e5f72cd7-d018-45d0-8a27-c250ab64ca16",
   "metadata": {},
   "outputs": [],
   "source": [
    "telco = prep_telco(telco)"
   ]
  },
  {
   "cell_type": "code",
   "execution_count": 216,
   "id": "ffb1e99d-b109-47e2-b70d-dea4cac7bd9d",
   "metadata": {},
   "outputs": [],
   "source": [
    "telco['churn_Yes'] = np.select([telco['churn_Yes']==1,telco.churn_Yes == 0],['yes','no'])"
   ]
  },
  {
   "cell_type": "code",
   "execution_count": 217,
   "id": "5443a8bf-cd63-468e-b5ca-e25f24a1b821",
   "metadata": {},
   "outputs": [
    {
     "data": {
      "text/plain": [
       "no     0.734215\n",
       "yes    0.265785\n",
       "Name: churn_Yes, dtype: float64"
      ]
     },
     "execution_count": 217,
     "metadata": {},
     "output_type": "execute_result"
    }
   ],
   "source": [
    "telco.churn_Yes.value_counts(normalize=True)"
   ]
  },
  {
   "cell_type": "code",
   "execution_count": 218,
   "id": "2b11211d-d926-4bb1-9d0e-c35ce8402897",
   "metadata": {},
   "outputs": [],
   "source": [
    "# very imbalanced"
   ]
  },
  {
   "cell_type": "code",
   "execution_count": 219,
   "id": "7a43b975-8750-4b81-bf94-d1080228cb6e",
   "metadata": {},
   "outputs": [],
   "source": [
    "train, validate, test = train_validate_test_split(telco, target = 'churn_Yes')"
   ]
  },
  {
   "cell_type": "code",
   "execution_count": 220,
   "id": "13f36e59-93c2-47bd-9454-2d511c327eea",
   "metadata": {},
   "outputs": [],
   "source": [
    "selected_features = ['senior_citizen','monthly_charges','internet_service_type_Fiber optic']"
   ]
  },
  {
   "cell_type": "code",
   "execution_count": 221,
   "id": "1e7ab927-ea38-4a7f-927b-94d63bf3a53c",
   "metadata": {},
   "outputs": [],
   "source": [
    "def X_and_y(train, validate, test, selected_features, target):\n",
    "    X_train = train[selected_features]\n",
    "    y_train = train[target]\n",
    "    \n",
    "    X_validate = validate[selected_features]\n",
    "    y_validate = validate[target]\n",
    "    \n",
    "    X_test = test[selected_features]\n",
    "    y_test = test[target]\n",
    "    \n",
    "    return {'X_train': X_train, 'y_train': y_train, 'X_validate': X_validate, 'y_validate': y_validate, 'X_test': X_test, 'y_test': y_test}\n",
    "    "
   ]
  },
  {
   "cell_type": "code",
   "execution_count": 222,
   "id": "48502cfa-d56d-4e1b-966f-6e7c8de0ef23",
   "metadata": {},
   "outputs": [],
   "source": [
    "split_data = X_and_y(train, validate, test, selected_features, 'churn_Yes')"
   ]
  },
  {
   "cell_type": "code",
   "execution_count": 223,
   "id": "704fcd37-e8be-4266-99b8-29bef1e76d1a",
   "metadata": {},
   "outputs": [],
   "source": [
    "clf = DecisionTreeClassifier(max_depth=3, random_state=123)"
   ]
  },
  {
   "cell_type": "code",
   "execution_count": 224,
   "id": "17f264e7-9a6a-4d58-b72e-bdc762e3d544",
   "metadata": {},
   "outputs": [],
   "source": [
    "clf = clf.fit(split_data['X_train'],split_data['y_train'])"
   ]
  },
  {
   "cell_type": "code",
   "execution_count": 225,
   "id": "19da6359-36e8-4b39-ba6d-e5f705ce9872",
   "metadata": {},
   "outputs": [
    {
     "data": {
      "text/plain": [
       "array(['no', 'yes'], dtype=object)"
      ]
     },
     "execution_count": 225,
     "metadata": {},
     "output_type": "execute_result"
    }
   ],
   "source": [
    "clf.classes_"
   ]
  },
  {
   "cell_type": "code",
   "execution_count": 226,
   "id": "65587fa9-c766-43da-82de-8aef480a30f5",
   "metadata": {},
   "outputs": [
    {
     "data": {
      "text/plain": [
       "[Text(558.0, 428.08500000000004, 'internet_service_type_Fiber optic <= 0.5\\ngini = 0.39\\nsamples = 3937\\nvalue = [2891, 1046]\\nclass = no'),\n",
       " Text(279.0, 305.775, 'monthly_charges <= 29.475\\ngini = 0.241\\nsamples = 2215\\nvalue = [1904, 311]\\nclass = no'),\n",
       " Text(139.5, 183.46500000000003, 'senior_citizen <= 0.5\\ngini = 0.167\\nsamples = 927\\nvalue = [842, 85]\\nclass = no'),\n",
       " Text(69.75, 61.15499999999997, 'gini = 0.152\\nsamples = 892\\nvalue = [818, 74]\\nclass = no'),\n",
       " Text(209.25, 61.15499999999997, 'gini = 0.431\\nsamples = 35\\nvalue = [24, 11]\\nclass = no'),\n",
       " Text(418.5, 183.46500000000003, 'monthly_charges <= 57.675\\ngini = 0.289\\nsamples = 1288\\nvalue = [1062, 226]\\nclass = no'),\n",
       " Text(348.75, 61.15499999999997, 'gini = 0.402\\nsamples = 609\\nvalue = [439, 170]\\nclass = no'),\n",
       " Text(488.25, 61.15499999999997, 'gini = 0.151\\nsamples = 679\\nvalue = [623, 56]\\nclass = no'),\n",
       " Text(837.0, 305.775, 'monthly_charges <= 88.375\\ngini = 0.489\\nsamples = 1722\\nvalue = [987, 735]\\nclass = no'),\n",
       " Text(697.5, 183.46500000000003, 'senior_citizen <= 0.5\\ngini = 0.49\\nsamples = 672\\nvalue = [288, 384]\\nclass = yes'),\n",
       " Text(627.75, 61.15499999999997, 'gini = 0.497\\nsamples = 490\\nvalue = [225, 265]\\nclass = yes'),\n",
       " Text(767.25, 61.15499999999997, 'gini = 0.453\\nsamples = 182\\nvalue = [63, 119]\\nclass = yes'),\n",
       " Text(976.5, 183.46500000000003, 'monthly_charges <= 107.425\\ngini = 0.445\\nsamples = 1050\\nvalue = [699, 351]\\nclass = no'),\n",
       " Text(906.75, 61.15499999999997, 'gini = 0.468\\nsamples = 856\\nvalue = [537, 319]\\nclass = no'),\n",
       " Text(1046.25, 61.15499999999997, 'gini = 0.275\\nsamples = 194\\nvalue = [162, 32]\\nclass = no')]"
      ]
     },
     "execution_count": 226,
     "metadata": {},
     "output_type": "execute_result"
    },
    {
     "data": {
      "image/png": "[encoded data removed]",
      "text/plain": [
       "<Figure size 1440x648 with 1 Axes>"
      ]
     },
     "metadata": {
      "needs_background": "light"
     },
     "output_type": "display_data"
    }
   ],
   "source": [
    "plt.figure(figsize=(20, 9))\n",
    "plot_tree(clf, feature_names=split_data['X_train'].columns, class_names=clf.classes_)"
   ]
  },
  {
   "cell_type": "code",
   "execution_count": 117,
   "id": "560a577b-15a4-4010-9659-d1c2ca506205",
   "metadata": {},
   "outputs": [
    {
     "data": {
      "text/plain": [
       "array(['no', 'yes', 'no', 'no', 'no'], dtype=object)"
      ]
     },
     "execution_count": 117,
     "metadata": {},
     "output_type": "execute_result"
    }
   ],
   "source": [
    "y_pred = clf.predict(split_data['X_train'])\n",
    "y_pred[0:5]"
   ]
  },
  {
   "cell_type": "code",
   "execution_count": 118,
   "id": "6a8ad237-0a3b-4c56-8b1b-9b0cffbca3ef",
   "metadata": {},
   "outputs": [],
   "source": [
    "y_pred_proba = clf.predict_proba(split_data['X_train'])"
   ]
  },
  {
   "cell_type": "code",
   "execution_count": 119,
   "id": "a93d79db-fd5b-42a8-8303-17770a98c6b7",
   "metadata": {},
   "outputs": [
    {
     "name": "stdout",
     "output_type": "stream",
     "text": [
      "Accuracy of Decision Tree classifier on training set: 0.76\n"
     ]
    }
   ],
   "source": [
    "print('Accuracy of Decision Tree classifier on training set: {:.2f}'\n",
    "      .format(clf.score(split_data['X_train'], split_data['y_train'])))\n"
   ]
  },
  {
   "cell_type": "code",
   "execution_count": 120,
   "id": "1f2af404-4377-4639-b988-893c8695ff9c",
   "metadata": {},
   "outputs": [
    {
     "name": "stdout",
     "output_type": "stream",
     "text": [
      "              precision    recall  f1-score   support\n",
      "\n",
      "          no       0.80      0.90      0.85      2891\n",
      "         yes       0.57      0.37      0.45      1046\n",
      "\n",
      "    accuracy                           0.76      3937\n",
      "   macro avg       0.68      0.63      0.65      3937\n",
      "weighted avg       0.74      0.76      0.74      3937\n",
      "\n",
      "False positive rate: 9.96%\n",
      "False negative rate: 63.29%\n",
      "True positive rate: 36.71%\n",
      "True negative rate: 90.04%\n"
     ]
    }
   ],
   "source": [
    "print(classification_report(split_data['y_train'], y_pred))\n",
    "\n",
    "tn, fp, fn, tp = confusion_matrix(split_data['y_train'], y_pred).ravel()\n",
    "\n",
    "print(f\"False positive rate: {fp/(fp+tn):.2%}\")\n",
    "print(f\"False negative rate: {fn/(fn+tp):.2%}\")\n",
    "print(f\"True positive rate: {tp/(tp+fn):.2%}\")\n",
    "print(f\"True negative rate: {tn/(fp+tn):.2%}\")"
   ]
  },
  {
   "cell_type": "code",
   "execution_count": 227,
   "id": "ff742989-d3f9-4140-a635-72ada0aea097",
   "metadata": {},
   "outputs": [],
   "source": [
    "def decision_tree(train, d, print_results, selected_features, target):\n",
    "    \n",
    "    X_train = split_data['X_train']\n",
    "    y_train = split_data['y_train']\n",
    "    clf = DecisionTreeClassifier(max_depth=d, random_state=123)\n",
    "    clf = clf.fit(X_train, y_train)\n",
    "    y_pred = clf.predict(X_train)\n",
    "    if print_results:\n",
    "        print(\"TRAINING RESULTS\")\n",
    "        print(\"----------------\")\n",
    "        print(f\"Max depth: {clf.max_depth}\")\n",
    "        print(f\"Features: {selected_features}\")\n",
    "        print(f\"Target: {target}\")\n",
    "        print(f\"Accuracy score on training set is: {clf.score(split_data['X_train'], split_data['y_train']):.2%}\")\n",
    "        print(classification_report(y_train, y_pred))\n",
    "\n",
    "        tn, fp, fn, tp = confusion_matrix(y_train, y_pred).ravel()\n",
    "\n",
    "        print(f\"False positive rate: {fp/(fp+tn):.2%}\")\n",
    "        print(f\"False negative rate: {fn/(fn+tp):.2%}\")\n",
    "        print(f\"True positive rate: {tp/(tp+fn):.2%}\")\n",
    "        print(f\"True negative rate: {tn/(fp+tn):.2%}\")\n",
    "        print(\"----------------\")\n",
    "    \n",
    "    return clf"
   ]
  },
  {
   "cell_type": "code",
   "execution_count": 228,
   "id": "e9cffb00-2d8e-41f5-9234-cfdb88f7f677",
   "metadata": {},
   "outputs": [
    {
     "name": "stdout",
     "output_type": "stream",
     "text": [
      "TRAINING RESULTS\n",
      "----------------\n",
      "Max depth: 3\n",
      "Features: ['senior_citizen', 'monthly_charges', 'internet_service_type_Fiber optic']\n",
      "Target: churn_Yes\n",
      "Accuracy score on training set is: 75.87%\n",
      "              precision    recall  f1-score   support\n",
      "\n",
      "          no       0.80      0.90      0.85      2891\n",
      "         yes       0.57      0.37      0.45      1046\n",
      "\n",
      "    accuracy                           0.76      3937\n",
      "   macro avg       0.68      0.63      0.65      3937\n",
      "weighted avg       0.74      0.76      0.74      3937\n",
      "\n",
      "False positive rate: 9.96%\n",
      "False negative rate: 63.29%\n",
      "True positive rate: 36.71%\n",
      "True negative rate: 90.04%\n",
      "----------------\n"
     ]
    },
    {
     "data": {
      "text/plain": [
       "DecisionTreeClassifier(max_depth=3, random_state=123)"
      ]
     },
     "execution_count": 228,
     "metadata": {},
     "output_type": "execute_result"
    }
   ],
   "source": [
    "decision_tree(train, 3, True, selected_features, target = 'churn_Yes')"
   ]
  },
  {
   "cell_type": "code",
   "execution_count": 229,
   "id": "75270ae9-e501-4fa4-a532-6a43cffe6532",
   "metadata": {},
   "outputs": [
    {
     "name": "stdout",
     "output_type": "stream",
     "text": [
      "TRAINING RESULTS\n",
      "----------------\n",
      "Max depth: 3\n",
      "Features: ['senior_citizen', 'monthly_charges', 'internet_service_type_Fiber optic']\n",
      "Target: churn_Yes\n",
      "Accuracy score on training set is: 75.87%\n",
      "              precision    recall  f1-score   support\n",
      "\n",
      "          no       0.80      0.90      0.85      2891\n",
      "         yes       0.57      0.37      0.45      1046\n",
      "\n",
      "    accuracy                           0.76      3937\n",
      "   macro avg       0.68      0.63      0.65      3937\n",
      "weighted avg       0.74      0.76      0.74      3937\n",
      "\n",
      "False positive rate: 9.96%\n",
      "False negative rate: 63.29%\n",
      "True positive rate: 36.71%\n",
      "True negative rate: 90.04%\n",
      "----------------\n",
      "TRAINING RESULTS\n",
      "----------------\n",
      "Max depth: 5\n",
      "Features: ['senior_citizen', 'monthly_charges', 'internet_service_type_Fiber optic']\n",
      "Target: churn_Yes\n",
      "Accuracy score on training set is: 76.40%\n",
      "              precision    recall  f1-score   support\n",
      "\n",
      "          no       0.80      0.90      0.85      2891\n",
      "         yes       0.59      0.38      0.46      1046\n",
      "\n",
      "    accuracy                           0.76      3937\n",
      "   macro avg       0.69      0.64      0.66      3937\n",
      "weighted avg       0.74      0.76      0.75      3937\n",
      "\n",
      "False positive rate: 9.72%\n",
      "False negative rate: 61.95%\n",
      "True positive rate: 38.05%\n",
      "True negative rate: 90.28%\n",
      "----------------\n"
     ]
    }
   ],
   "source": [
    "for i in [3,5]:\n",
    "    decision_tree(train, i, True, selected_features, target = 'churn_Yes')"
   ]
  },
  {
   "cell_type": "markdown",
   "id": "2661a6eb-089b-4fe3-bef8-8f3a129b710c",
   "metadata": {},
   "source": [
    "### Max depth 5 slightly more accurate, precise, and better recall than max depth 3"
   ]
  },
  {
   "cell_type": "code",
   "execution_count": 230,
   "id": "36429917-d613-48e6-a784-231050079c53",
   "metadata": {},
   "outputs": [
    {
     "name": "stdout",
     "output_type": "stream",
     "text": [
      "\n",
      "For decision tree of depth: 3\n",
      "VALIDATE RESULTS\n",
      "Accuracy of Decision Tree classifier on validate set: 71.92%\n",
      "              precision    recall  f1-score   support\n",
      "\n",
      "          no       0.78      0.87      0.82      1239\n",
      "         yes       0.46      0.31      0.37       449\n",
      "\n",
      "    accuracy                           0.72      1688\n",
      "   macro avg       0.62      0.59      0.60      1688\n",
      "weighted avg       0.69      0.72      0.70      1688\n",
      "\n",
      "\n",
      "For decision tree of depth: 5\n",
      "VALIDATE RESULTS\n",
      "Accuracy of Decision Tree classifier on validate set: 71.74%\n",
      "              precision    recall  f1-score   support\n",
      "\n",
      "          no       0.78      0.86      0.82      1239\n",
      "         yes       0.46      0.32      0.38       449\n",
      "\n",
      "    accuracy                           0.72      1688\n",
      "   macro avg       0.62      0.59      0.60      1688\n",
      "weighted avg       0.69      0.72      0.70      1688\n",
      "\n"
     ]
    }
   ],
   "source": [
    "def validate_results(d):\n",
    "    clf = decision_tree(train, d, False, selected_features, target = 'churn_Yes')\n",
    "    print('')\n",
    "    print(f'For decision tree of depth: {clf.max_depth}')\n",
    "    print('VALIDATE RESULTS')\n",
    "    print('Accuracy of Decision Tree classifier on validate set: {:.2%}'\n",
    "         .format(clf.score(split_data['X_validate'], split_data['y_validate'])))\n",
    "    # And since accuracy isn't everything\n",
    "\n",
    "    # Produce y_predictions that come from the X_validate\n",
    "    y_pred = clf.predict(split_data['X_validate'])\n",
    "\n",
    "    # Compare actual y values (from validate) to predicted y_values from the model run on X_validate\n",
    "    print(classification_report(split_data['y_validate'], y_pred))\n",
    "\n",
    "for i in [3,5]:\n",
    "    validate_results(i)\n",
    "\n"
   ]
  },
  {
   "cell_type": "markdown",
   "id": "e14aaeb4-e0fb-42db-a82b-fb7aa91224af",
   "metadata": {},
   "source": [
    "### Dropoff in accuracy from train to validate, bigger dropoff on max depth 5. Max depth 3 more accurate than max depth 5. Similar precision and recall."
   ]
  },
  {
   "cell_type": "markdown",
   "id": "d9bdf5d3-0088-4a89-af40-9ec44d930631",
   "metadata": {
    "tags": []
   },
   "source": [
    "# Exercises for Random Forest"
   ]
  },
  {
   "cell_type": "code",
   "execution_count": 243,
   "id": "b31836cd-2943-4444-8e90-4f5adbc36eac",
   "metadata": {},
   "outputs": [
    {
     "name": "stdout",
     "output_type": "stream",
     "text": [
      "Using cached data\n"
     ]
    }
   ],
   "source": [
    "df = get_titantic_data()"
   ]
  },
  {
   "cell_type": "code",
   "execution_count": 244,
   "id": "b02abcc8-164b-4330-bec4-b6fbaff43d2b",
   "metadata": {},
   "outputs": [
    {
     "data": {
      "text/plain": [
       "(891, 13)"
      ]
     },
     "execution_count": 244,
     "metadata": {},
     "output_type": "execute_result"
    }
   ],
   "source": [
    "df.shape"
   ]
  },
  {
   "cell_type": "code",
   "execution_count": 245,
   "id": "d8b51da3-319c-492a-881b-7c86c9c06f52",
   "metadata": {},
   "outputs": [],
   "source": [
    "df = df.drop(columns = ['passenger_id','deck','embarked','class'])"
   ]
  },
  {
   "cell_type": "code",
   "execution_count": 246,
   "id": "3c5c0a46-6bdb-44b7-862f-af3468e47947",
   "metadata": {},
   "outputs": [
    {
     "data": {
      "text/plain": [
       "(891, 9)"
      ]
     },
     "execution_count": 246,
     "metadata": {},
     "output_type": "execute_result"
    }
   ],
   "source": [
    "df.shape"
   ]
  },
  {
   "cell_type": "code",
   "execution_count": 247,
   "id": "bed878dc-f5a0-490e-84e5-c3a845bdaa25",
   "metadata": {},
   "outputs": [
    {
     "data": {
      "text/plain": [
       "(712, 9)"
      ]
     },
     "execution_count": 247,
     "metadata": {},
     "output_type": "execute_result"
    }
   ],
   "source": [
    "df = df.dropna()\n",
    "df.shape"
   ]
  },
  {
   "cell_type": "code",
   "execution_count": 248,
   "id": "b05f866a-785e-4ac0-bdad-5f99c9d71104",
   "metadata": {},
   "outputs": [],
   "source": [
    "df = pd.get_dummies(df,columns = ['embark_town','sex'], drop_first=True)"
   ]
  },
  {
   "cell_type": "code",
   "execution_count": 249,
   "id": "cc12f4f9-e632-4646-bb19-72c645279785",
   "metadata": {},
   "outputs": [],
   "source": [
    "train, validate, test = train_validate_test_split(df, target = 'survived')"
   ]
  },
  {
   "cell_type": "code",
   "execution_count": 250,
   "id": "48485b2f-b926-4374-850a-3cd0a68042c8",
   "metadata": {},
   "outputs": [
    {
     "data": {
      "text/plain": [
       "((398, 10), (171, 10), (143, 10))"
      ]
     },
     "execution_count": 250,
     "metadata": {},
     "output_type": "execute_result"
    }
   ],
   "source": [
    "train.shape, validate.shape, test.shape"
   ]
  },
  {
   "cell_type": "code",
   "execution_count": 251,
   "id": "2664da30-10da-46c1-9131-14080d0919a3",
   "metadata": {},
   "outputs": [],
   "source": [
    "# baseline is most common value - so 0, didn't survive\n",
    "train['baseline'] = 0"
   ]
  },
  {
   "cell_type": "code",
   "execution_count": 252,
   "id": "06b174ed-e166-4179-a5b6-eedda2e6b6c6",
   "metadata": {},
   "outputs": [
    {
     "name": "stdout",
     "output_type": "stream",
     "text": [
      "Baseline accuracy is: 59.55%\n"
     ]
    }
   ],
   "source": [
    "print(f\"Baseline accuracy is: {(train.survived==train.baseline).mean():.2%}\")"
   ]
  },
  {
   "cell_type": "code",
   "execution_count": 253,
   "id": "ec22b913-3200-4000-b780-e2293ed139b6",
   "metadata": {},
   "outputs": [],
   "source": [
    "selected_features = ['pclass','embark_town_Queenstown','embark_town_Southampton','sex_male']"
   ]
  },
  {
   "cell_type": "code",
   "execution_count": 388,
   "id": "09bc64e3-347d-4469-b1c5-5fe555873fa2",
   "metadata": {},
   "outputs": [
    {
     "data": {
      "text/html": [
       "<div>\n",
       "<style scoped>\n",
       "    .dataframe tbody tr th:only-of-type {\n",
       "        vertical-align: middle;\n",
       "    }\n",
       "\n",
       "    .dataframe tbody tr th {\n",
       "        vertical-align: top;\n",
       "    }\n",
       "\n",
       "    .dataframe thead th {\n",
       "        text-align: right;\n",
       "    }\n",
       "</style>\n",
       "<table border=\"1\" class=\"dataframe\">\n",
       "  <thead>\n",
       "    <tr style=\"text-align: right;\">\n",
       "      <th></th>\n",
       "      <th>survived</th>\n",
       "      <th>pclass</th>\n",
       "      <th>age</th>\n",
       "      <th>sibsp</th>\n",
       "      <th>parch</th>\n",
       "      <th>fare</th>\n",
       "      <th>alone</th>\n",
       "      <th>embark_town_Queenstown</th>\n",
       "      <th>embark_town_Southampton</th>\n",
       "      <th>sex_male</th>\n",
       "    </tr>\n",
       "  </thead>\n",
       "  <tbody>\n",
       "    <tr>\n",
       "      <th>610</th>\n",
       "      <td>0</td>\n",
       "      <td>3</td>\n",
       "      <td>39.0</td>\n",
       "      <td>1</td>\n",
       "      <td>5</td>\n",
       "      <td>31.2750</td>\n",
       "      <td>0</td>\n",
       "      <td>0</td>\n",
       "      <td>1</td>\n",
       "      <td>0</td>\n",
       "    </tr>\n",
       "    <tr>\n",
       "      <th>56</th>\n",
       "      <td>1</td>\n",
       "      <td>2</td>\n",
       "      <td>21.0</td>\n",
       "      <td>0</td>\n",
       "      <td>0</td>\n",
       "      <td>10.5000</td>\n",
       "      <td>1</td>\n",
       "      <td>0</td>\n",
       "      <td>1</td>\n",
       "      <td>0</td>\n",
       "    </tr>\n",
       "    <tr>\n",
       "      <th>664</th>\n",
       "      <td>1</td>\n",
       "      <td>3</td>\n",
       "      <td>20.0</td>\n",
       "      <td>1</td>\n",
       "      <td>0</td>\n",
       "      <td>7.9250</td>\n",
       "      <td>0</td>\n",
       "      <td>0</td>\n",
       "      <td>1</td>\n",
       "      <td>1</td>\n",
       "    </tr>\n",
       "    <tr>\n",
       "      <th>830</th>\n",
       "      <td>1</td>\n",
       "      <td>3</td>\n",
       "      <td>15.0</td>\n",
       "      <td>1</td>\n",
       "      <td>0</td>\n",
       "      <td>14.4542</td>\n",
       "      <td>0</td>\n",
       "      <td>0</td>\n",
       "      <td>0</td>\n",
       "      <td>0</td>\n",
       "    </tr>\n",
       "    <tr>\n",
       "      <th>92</th>\n",
       "      <td>0</td>\n",
       "      <td>1</td>\n",
       "      <td>46.0</td>\n",
       "      <td>1</td>\n",
       "      <td>0</td>\n",
       "      <td>61.1750</td>\n",
       "      <td>0</td>\n",
       "      <td>0</td>\n",
       "      <td>1</td>\n",
       "      <td>1</td>\n",
       "    </tr>\n",
       "    <tr>\n",
       "      <th>...</th>\n",
       "      <td>...</td>\n",
       "      <td>...</td>\n",
       "      <td>...</td>\n",
       "      <td>...</td>\n",
       "      <td>...</td>\n",
       "      <td>...</td>\n",
       "      <td>...</td>\n",
       "      <td>...</td>\n",
       "      <td>...</td>\n",
       "      <td>...</td>\n",
       "    </tr>\n",
       "    <tr>\n",
       "      <th>505</th>\n",
       "      <td>0</td>\n",
       "      <td>1</td>\n",
       "      <td>18.0</td>\n",
       "      <td>1</td>\n",
       "      <td>0</td>\n",
       "      <td>108.9000</td>\n",
       "      <td>0</td>\n",
       "      <td>0</td>\n",
       "      <td>0</td>\n",
       "      <td>1</td>\n",
       "    </tr>\n",
       "    <tr>\n",
       "      <th>164</th>\n",
       "      <td>0</td>\n",
       "      <td>3</td>\n",
       "      <td>1.0</td>\n",
       "      <td>4</td>\n",
       "      <td>1</td>\n",
       "      <td>39.6875</td>\n",
       "      <td>0</td>\n",
       "      <td>0</td>\n",
       "      <td>1</td>\n",
       "      <td>1</td>\n",
       "    </tr>\n",
       "    <tr>\n",
       "      <th>624</th>\n",
       "      <td>0</td>\n",
       "      <td>3</td>\n",
       "      <td>21.0</td>\n",
       "      <td>0</td>\n",
       "      <td>0</td>\n",
       "      <td>16.1000</td>\n",
       "      <td>1</td>\n",
       "      <td>0</td>\n",
       "      <td>1</td>\n",
       "      <td>1</td>\n",
       "    </tr>\n",
       "    <tr>\n",
       "      <th>726</th>\n",
       "      <td>1</td>\n",
       "      <td>2</td>\n",
       "      <td>30.0</td>\n",
       "      <td>3</td>\n",
       "      <td>0</td>\n",
       "      <td>21.0000</td>\n",
       "      <td>0</td>\n",
       "      <td>0</td>\n",
       "      <td>1</td>\n",
       "      <td>0</td>\n",
       "    </tr>\n",
       "    <tr>\n",
       "      <th>33</th>\n",
       "      <td>0</td>\n",
       "      <td>2</td>\n",
       "      <td>66.0</td>\n",
       "      <td>0</td>\n",
       "      <td>0</td>\n",
       "      <td>10.5000</td>\n",
       "      <td>1</td>\n",
       "      <td>0</td>\n",
       "      <td>1</td>\n",
       "      <td>1</td>\n",
       "    </tr>\n",
       "  </tbody>\n",
       "</table>\n",
       "<p>171 rows × 10 columns</p>\n",
       "</div>"
      ],
      "text/plain": [
       "     survived  pclass   age  sibsp  parch      fare  alone  \\\n",
       "610         0       3  39.0      1      5   31.2750      0   \n",
       "56          1       2  21.0      0      0   10.5000      1   \n",
       "664         1       3  20.0      1      0    7.9250      0   \n",
       "830         1       3  15.0      1      0   14.4542      0   \n",
       "92          0       1  46.0      1      0   61.1750      0   \n",
       "..        ...     ...   ...    ...    ...       ...    ...   \n",
       "505         0       1  18.0      1      0  108.9000      0   \n",
       "164         0       3   1.0      4      1   39.6875      0   \n",
       "624         0       3  21.0      0      0   16.1000      1   \n",
       "726         1       2  30.0      3      0   21.0000      0   \n",
       "33          0       2  66.0      0      0   10.5000      1   \n",
       "\n",
       "     embark_town_Queenstown  embark_town_Southampton  sex_male  \n",
       "610                       0                        1         0  \n",
       "56                        0                        1         0  \n",
       "664                       0                        1         1  \n",
       "830                       0                        0         0  \n",
       "92                        0                        1         1  \n",
       "..                      ...                      ...       ...  \n",
       "505                       0                        0         1  \n",
       "164                       0                        1         1  \n",
       "624                       0                        1         1  \n",
       "726                       0                        1         0  \n",
       "33                        0                        1         1  \n",
       "\n",
       "[171 rows x 10 columns]"
      ]
     },
     "execution_count": 388,
     "metadata": {},
     "output_type": "execute_result"
    }
   ],
   "source": [
    "validate"
   ]
  },
  {
   "cell_type": "code",
   "execution_count": 408,
   "id": "58c41f6a-88a5-4543-8b2c-d908b220ead0",
   "metadata": {},
   "outputs": [],
   "source": [
    "def random_forest(train, validate, selected_features , min_samples_leaf, d, print_results = True):\n",
    "    \n",
    "    X_train = train[selected_features]\n",
    "    y_train = train[['survived']]\n",
    "    rf = RandomForestClassifier(max_depth=d, min_samples_leaf=min_samples_leaf, random_state=123)\n",
    "    # Fit\n",
    "    rf = rf.fit(X_train, y_train['survived'])\n",
    "    \n",
    "    # Predict\n",
    "    y_pred = rf.predict(X_train)\n",
    "    \n",
    "    # Results\n",
    "    tn, fp, fn, tp = confusion_matrix(y_train, y_pred).ravel()\n",
    "    if print_results:\n",
    "        print(\"TRAINING RESULTS\")\n",
    "        print(\"----------------\")\n",
    "        # Feature importance\n",
    "        print(f\"Feature importance:\\n{dict(zip(selected_features,rf.feature_importances_))}\")\n",
    "        print(f\"Accuracy of random forest classifer on training set: {rf.score(X_train, y_train):.2%}\")\n",
    "        print(classification_report(y_train, y_pred))\n",
    "\n",
    "        \n",
    "        print(\"Confusion matrix: rows are truth, columns are pred\")\n",
    "        print(\"\")\n",
    "        print(confusion_matrix(y_train, y_pred))\n",
    "        print(\"\")\n",
    "        print(f\"False positive rate: {fp/(fp+tn):.2%}\")\n",
    "        print(f\"False negative rate: {fn/(fn+tp):.2%}\")\n",
    "        print(f\"True positive rate: {tp/(tp+fn):.2%}\")\n",
    "        print(f\"True negative rate: {tn/(fp+tn):.2%}\")\n",
    "        print(\"----------------\")\n",
    "    train_report = classification_report(y_train, y_pred, output_dict=True)\n",
    "    ### Predict for Validate \n",
    "    y_pred_val = rf.predict(validate[selected_features])\n",
    "    ### Classification report\n",
    "    validate_report = classification_report(validate[['survived']],y_pred_val, output_dict=True)\n",
    "    if print_results:\n",
    "        print(\"VALIDATE RESULTS\")\n",
    "        print(\"----------------\")\n",
    "        print(classification_report(validate[['survived']],y_pred_val))\n",
    "    reports = {'train':train_report,'validate':validate_report}\n",
    "    return reports"
   ]
  },
  {
   "cell_type": "code",
   "execution_count": 409,
   "id": "3f5647cc-57a4-4228-85e2-1fb32b86fdc8",
   "metadata": {},
   "outputs": [
    {
     "name": "stdout",
     "output_type": "stream",
     "text": [
      "TRAINING RESULTS\n",
      "----------------\n",
      "Feature importance:\n",
      "{'pclass': 0.31157122794183023, 'embark_town_Queenstown': 0.027475321223680762, 'embark_town_Southampton': 0.042824936023002885, 'sex_male': 0.6181285148114861}\n",
      "Accuracy of random forest classifer on training set: 80.40%\n",
      "              precision    recall  f1-score   support\n",
      "\n",
      "           0       0.79      0.92      0.85       237\n",
      "           1       0.84      0.64      0.73       161\n",
      "\n",
      "    accuracy                           0.80       398\n",
      "   macro avg       0.81      0.78      0.79       398\n",
      "weighted avg       0.81      0.80      0.80       398\n",
      "\n",
      "Confusion matrix: rows are truth, columns are pred\n",
      "\n",
      "[[217  20]\n",
      " [ 58 103]]\n",
      "\n",
      "False positive rate: 8.44%\n",
      "False negative rate: 36.02%\n",
      "True positive rate: 63.98%\n",
      "True negative rate: 91.56%\n",
      "----------------\n",
      "VALIDATE RESULTS\n",
      "----------------\n",
      "              precision    recall  f1-score   support\n",
      "\n",
      "           0       0.74      0.92      0.82       102\n",
      "           1       0.82      0.52      0.64        69\n",
      "\n",
      "    accuracy                           0.76       171\n",
      "   macro avg       0.78      0.72      0.73       171\n",
      "weighted avg       0.77      0.76      0.75       171\n",
      "\n"
     ]
    },
    {
     "data": {
      "text/plain": [
       "{'train': {'0': {'precision': 0.7890909090909091,\n",
       "   'recall': 0.9156118143459916,\n",
       "   'f1-score': 0.8476562499999999,\n",
       "   'support': 237},\n",
       "  '1': {'precision': 0.8373983739837398,\n",
       "   'recall': 0.639751552795031,\n",
       "   'f1-score': 0.7253521126760563,\n",
       "   'support': 161},\n",
       "  'accuracy': 0.8040201005025126,\n",
       "  'macro avg': {'precision': 0.8132446415373245,\n",
       "   'recall': 0.7776816835705114,\n",
       "   'f1-score': 0.786504181338028,\n",
       "   'support': 398},\n",
       "  'weighted avg': {'precision': 0.8086323710199185,\n",
       "   'recall': 0.8040201005025126,\n",
       "   'f1-score': 0.7981814607810177,\n",
       "   'support': 398}},\n",
       " 'validate': {'0': {'precision': 0.7401574803149606,\n",
       "   'recall': 0.9215686274509803,\n",
       "   'f1-score': 0.8209606986899565,\n",
       "   'support': 102},\n",
       "  '1': {'precision': 0.8181818181818182,\n",
       "   'recall': 0.5217391304347826,\n",
       "   'f1-score': 0.6371681415929203,\n",
       "   'support': 69},\n",
       "  'accuracy': 0.7602339181286549,\n",
       "  'macro avg': {'precision': 0.7791696492483895,\n",
       "   'recall': 0.7216538789428815,\n",
       "   'f1-score': 0.7290644201414385,\n",
       "   'support': 171},\n",
       "  'weighted avg': {'precision': 0.7716409850682541,\n",
       "   'recall': 0.7602339181286549,\n",
       "   'f1-score': 0.7467987896858892,\n",
       "   'support': 171}}}"
      ]
     },
     "execution_count": 409,
     "metadata": {},
     "output_type": "execute_result"
    }
   ],
   "source": [
    "random_forest(train,validate,selected_features,1,10,True)"
   ]
  },
  {
   "cell_type": "markdown",
   "id": "216f41e5-6492-4f88-a656-22b2974f68a4",
   "metadata": {},
   "source": [
    "### Accuracy of 80% is decent, higher precision than recall. High false negative rate. Looks like sex and pclass are important features. Embark town does not look important (surprising?)."
   ]
  },
  {
   "cell_type": "code",
   "execution_count": 412,
   "id": "4cec6fcf-25ff-409a-84d4-34122225aa08",
   "metadata": {},
   "outputs": [],
   "source": [
    "depths =[]\n",
    "min_samples = []\n",
    "accuracies = []\n",
    "precisions = []\n",
    "recalls = []\n",
    "v_accuracies = []\n",
    "v_precisions = []\n",
    "v_recalls = []\n",
    "\n",
    "for depth in range(10,6,-1):\n",
    "    for min_sample in range(6,10):\n",
    "        depths.append(depth)\n",
    "        min_samples.append(min_sample)\n",
    "        reports = random_forest(train, validate, selected_features, min_sample, depth, False)\n",
    "        \n",
    "        train_report = reports['train']\n",
    "        accuracies.append(train_report['accuracy'])\n",
    "        precisions.append(train_report['1']['precision'])\n",
    "        recalls.append(train_report['1']['recall'])\n",
    "        \n",
    "        validate_report = reports['validate']\n",
    "        v_accuracies.append(validate_report['accuracy'])\n",
    "        v_precisions.append(validate_report['1']['precision'])\n",
    "        v_recalls.append(validate_report['1']['recall'])\n",
    "        \n",
    "train_results_df= pd.DataFrame(data = {\"max_depth\":depths,\"min_samples_leaf\":min_samples,\"accuracy\":accuracies,\"precision\":precisions,\"recall\":recalls})\n",
    "validate_results_df= pd.DataFrame(data = {\"max_depth\":depths,\"min_samples_leaf\":min_samples,\"accuracy\":v_accuracies,\"precision\":v_precisions,\"recall\":v_recalls})\n",
    "\n"
   ]
  },
  {
   "cell_type": "code",
   "execution_count": 416,
   "id": "0f174431-a733-4bbf-b390-d82421b5fa4d",
   "metadata": {},
   "outputs": [
    {
     "data": {
      "image/png": "[encoded data removed]",
      "text/plain": [
       "<Figure size 1152x432 with 6 Axes>"
      ]
     },
     "metadata": {
      "needs_background": "light"
     },
     "output_type": "display_data"
    }
   ],
   "source": [
    "_, ax = plt.subplots(1,3, figsize=(16,6))\n",
    "to_plot = [\"accuracy\",\"precision\",\"recall\"]\n",
    "for i, metric in enumerate(to_plot):\n",
    "    heatmap_df = train_results_df.pivot(\"max_depth\",\"min_samples_leaf\",metric)\n",
    "    sns.heatmap(heatmap_df, ax=ax[i])\n",
    "    ax[i].set_title(metric)\n",
    "\n",
    "# plt.show()\n",
    "# for i, metric in enumerate(to_plot):\n",
    "#     heatmap_df = validate_results_df.pivot(\"max_depth\",\"min_samples_leaf\",metric)\n",
    "#     sns.heatmap(heatmap_df, ax=ax[i])\n",
    "#     ax[i].set_title(metric)"
   ]
  },
  {
   "cell_type": "markdown",
   "id": "4e497367-1f58-4d4a-a850-55ad024c6147",
   "metadata": {},
   "source": [
    "### For accuracy: best performance for max depth 2-10 for min samples: 1-6\n"
   ]
  },
  {
   "cell_type": "code",
   "execution_count": null,
   "id": "ea0b450f-a797-4344-9905-642abed48c9a",
   "metadata": {},
   "outputs": [],
   "source": []
  }
 ],
 "metadata": {
  "kernelspec": {
   "display_name": "Python 3.9.7 64-bit ('base': conda)",
   "language": "python",
   "name": "python397jvsc74a57bd038cca0c38332a56087b24af0bc80247f4fced29cb4f7f437d91dc159adec9c4e"
  },
  "language_info": {
   "codemirror_mode": {
    "name": "ipython",
    "version": 3
   },
   "file_extension": ".py",
   "mimetype": "text/x-python",
   "name": "python",
   "nbconvert_exporter": "python",
   "pygments_lexer": "ipython3",
   "version": "3.9.7"
  }
 },
 "nbformat": 4,
 "nbformat_minor": 5
}
