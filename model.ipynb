{
 "cells": [
  {
   "cell_type": "markdown",
   "id": "5a964f7c-2065-4b9f-86e7-bb254ec7a8c4",
   "metadata": {},
   "source": [
    "Model exercises"
   ]
  },
  {
   "cell_type": "code",
   "execution_count": 80,
   "id": "d896b594-a2b7-424e-a189-beb8b9cc1206",
   "metadata": {},
   "outputs": [],
   "source": [
    "import pandas as pd\n",
    "from acquire import get_telco_data, get_titantic_data\n",
    "from prepare import train_validate_test_split\n",
    "from sklearn.tree import DecisionTreeClassifier, plot_tree\n",
    "from sklearn.metrics import accuracy_score, classification_report, confusion_matrix\n",
    "import matplotlib.pyplot as plt"
   ]
  },
  {
   "cell_type": "markdown",
   "id": "89fe536b-163b-49d8-801a-f496b61df685",
   "metadata": {
    "tags": []
   },
   "source": [
    "## Using titantic"
   ]
  },
  {
   "cell_type": "code",
   "execution_count": 47,
   "id": "ec794190-db06-4f2e-b32a-fdc1a3cdd439",
   "metadata": {},
   "outputs": [
    {
     "name": "stdout",
     "output_type": "stream",
     "text": [
      "Using cached data\n"
     ]
    }
   ],
   "source": [
    "df = get_titantic_data()"
   ]
  },
  {
   "cell_type": "code",
   "execution_count": 48,
   "id": "8b7c1079-be7b-422f-8a8a-2e2acb3ac52c",
   "metadata": {},
   "outputs": [
    {
     "data": {
      "text/plain": [
       "(891, 13)"
      ]
     },
     "execution_count": 48,
     "metadata": {},
     "output_type": "execute_result"
    }
   ],
   "source": [
    "df.shape"
   ]
  },
  {
   "cell_type": "code",
   "execution_count": 49,
   "id": "f001ac65-5644-4f8c-9ddd-cc8aee95670d",
   "metadata": {},
   "outputs": [],
   "source": [
    "df = df.drop(columns = ['passenger_id','deck','embarked','class'])"
   ]
  },
  {
   "cell_type": "code",
   "execution_count": 50,
   "id": "e1c86ef2-2a59-44c3-9ce4-f8d8ab6c4b2b",
   "metadata": {},
   "outputs": [
    {
     "data": {
      "text/plain": [
       "(891, 9)"
      ]
     },
     "execution_count": 50,
     "metadata": {},
     "output_type": "execute_result"
    }
   ],
   "source": [
    "df.shape"
   ]
  },
  {
   "cell_type": "code",
   "execution_count": 51,
   "id": "b29308a1-65ff-484e-83b3-1d8dfafdafac",
   "metadata": {},
   "outputs": [
    {
     "data": {
      "text/plain": [
       "(712, 9)"
      ]
     },
     "execution_count": 51,
     "metadata": {},
     "output_type": "execute_result"
    }
   ],
   "source": [
    "df = df.dropna()\n",
    "df.shape"
   ]
  },
  {
   "cell_type": "code",
   "execution_count": 52,
   "id": "148a7abf-9122-4622-a65c-388a16885df1",
   "metadata": {},
   "outputs": [],
   "source": [
    "df = pd.get_dummies(df,columns = ['embark_town','sex'], drop_first=True)"
   ]
  },
  {
   "cell_type": "code",
   "execution_count": 53,
   "id": "5e5d5b96-2f43-4f08-a83e-d9d9df29f77b",
   "metadata": {},
   "outputs": [],
   "source": [
    "train, validate, test = train_validate_test_split(df, target = 'survived')"
   ]
  },
  {
   "cell_type": "code",
   "execution_count": 54,
   "id": "8347e585-5de7-42c5-8e78-5a1d180d5e13",
   "metadata": {},
   "outputs": [
    {
     "data": {
      "text/plain": [
       "((398, 10), (171, 10), (143, 10))"
      ]
     },
     "execution_count": 54,
     "metadata": {},
     "output_type": "execute_result"
    }
   ],
   "source": [
    "train.shape, validate.shape, test.shape"
   ]
  },
  {
   "cell_type": "markdown",
   "id": "7a2d7061-31ea-4aaa-96de-726c5912b0d3",
   "metadata": {},
   "source": [
    "1. What is your baseline prediction? What is your baseline accuracy? remember: your baseline prediction for a classification problem is predicting the most prevelant class in the training dataset (the mode). When you make those predictions, what is your accuracy? This is your baseline accuracy."
   ]
  },
  {
   "cell_type": "code",
   "execution_count": 56,
   "id": "c92d8ec5-dc7b-4831-b0c6-d43cfb5d179b",
   "metadata": {},
   "outputs": [
    {
     "data": {
      "text/plain": [
       "0    237\n",
       "1    161\n",
       "Name: survived, dtype: int64"
      ]
     },
     "execution_count": 56,
     "metadata": {},
     "output_type": "execute_result"
    }
   ],
   "source": [
    "train.survived.value_counts()"
   ]
  },
  {
   "cell_type": "code",
   "execution_count": 57,
   "id": "1d06d08f-07fd-4986-a55b-d08d1e083ab9",
   "metadata": {},
   "outputs": [],
   "source": [
    "# baseline is most common value - so 0, didn't survive\n",
    "train['baseline'] = 0"
   ]
  },
  {
   "cell_type": "code",
   "execution_count": 58,
   "id": "b6b9cb92-2b34-4c96-8f3e-bdbed79d3f85",
   "metadata": {},
   "outputs": [
    {
     "name": "stdout",
     "output_type": "stream",
     "text": [
      "Baseline accuracy is: 59.55%\n"
     ]
    }
   ],
   "source": [
    "print(f\"Baseline accuracy is: {(train.survived==train.baseline).mean():.2%}\")"
   ]
  },
  {
   "cell_type": "markdown",
   "id": "a23559c9-7432-4fa9-8f40-c556e7c8411a",
   "metadata": {},
   "source": [
    "2. Fit the decision tree classifier to your training sample and transform (i.e. make predictions on the training sample)"
   ]
  },
  {
   "cell_type": "code",
   "execution_count": 60,
   "id": "cc5858dd-fda7-42c6-a7cf-99bcda45cd53",
   "metadata": {},
   "outputs": [],
   "source": [
    "# Based on exploration believe that pclass, sex, and embark_town are features of interest\n",
    "selected_features = ['pclass','embark_town_Queenstown','embark_town_Southampton','sex_male']"
   ]
  },
  {
   "cell_type": "code",
   "execution_count": 61,
   "id": "61f8f597-d002-4fe2-87da-55b62c330563",
   "metadata": {},
   "outputs": [],
   "source": [
    "X_train = train[selected_features]\n",
    "y_train = train[['survived']]"
   ]
  },
  {
   "cell_type": "code",
   "execution_count": 63,
   "id": "ee7e55eb-5a7f-4e4e-990c-a9eadceb449a",
   "metadata": {},
   "outputs": [],
   "source": [
    "clf = DecisionTreeClassifier(max_depth=3, random_state=123)"
   ]
  },
  {
   "cell_type": "code",
   "execution_count": 64,
   "id": "9959674d-f744-4316-8222-c3430ecde403",
   "metadata": {},
   "outputs": [],
   "source": [
    "clf = clf.fit(X_train, y_train)"
   ]
  },
  {
   "cell_type": "code",
   "execution_count": 70,
   "id": "afa5a738-e87e-409a-bcbc-76bb065510d1",
   "metadata": {},
   "outputs": [],
   "source": [
    "y_pred = clf.predict(X_train)"
   ]
  },
  {
   "cell_type": "code",
   "execution_count": 75,
   "id": "97f35031-9aa9-472c-b009-4639f3d0373a",
   "metadata": {},
   "outputs": [
    {
     "data": {
      "text/plain": [
       "array([0, 0, 0, 0, 0, 0, 0, 0, 1, 0, 0, 0, 0, 1, 0, 0, 1, 0, 1, 0])"
      ]
     },
     "execution_count": 75,
     "metadata": {},
     "output_type": "execute_result"
    }
   ],
   "source": [
    "y_pred[0:20]"
   ]
  },
  {
   "cell_type": "markdown",
   "id": "0bba1e91-6a13-45c0-95b0-ba6082a8aaca",
   "metadata": {},
   "source": [
    "3. Evaluate your in-sample results using the model score, confusion matrix, and classification report."
   ]
  },
  {
   "cell_type": "code",
   "execution_count": 79,
   "id": "a5ac2804-b7ee-4dc2-b31e-202a22bf7269",
   "metadata": {},
   "outputs": [
    {
     "name": "stdout",
     "output_type": "stream",
     "text": [
      "Accuracy score on training set is: 80.15%\n"
     ]
    }
   ],
   "source": [
    "print(f\"Accuracy score on training set is: {accuracy_score(y_train.survived, y_pred):.2%}\")"
   ]
  },
  {
   "cell_type": "code",
   "execution_count": 85,
   "id": "ec5cdf79-cd85-41b0-a561-e4ced1dba91a",
   "metadata": {},
   "outputs": [
    {
     "data": {
      "text/html": [
       "<div>\n",
       "<style scoped>\n",
       "    .dataframe tbody tr th:only-of-type {\n",
       "        vertical-align: middle;\n",
       "    }\n",
       "\n",
       "    .dataframe tbody tr th {\n",
       "        vertical-align: top;\n",
       "    }\n",
       "\n",
       "    .dataframe thead th {\n",
       "        text-align: right;\n",
       "    }\n",
       "</style>\n",
       "<table border=\"1\" class=\"dataframe\">\n",
       "  <thead>\n",
       "    <tr style=\"text-align: right;\">\n",
       "      <th></th>\n",
       "      <th>0</th>\n",
       "      <th>1</th>\n",
       "    </tr>\n",
       "  </thead>\n",
       "  <tbody>\n",
       "    <tr>\n",
       "      <th>0</th>\n",
       "      <td>223</td>\n",
       "      <td>14</td>\n",
       "    </tr>\n",
       "    <tr>\n",
       "      <th>1</th>\n",
       "      <td>65</td>\n",
       "      <td>96</td>\n",
       "    </tr>\n",
       "  </tbody>\n",
       "</table>\n",
       "</div>"
      ],
      "text/plain": [
       "     0   1\n",
       "0  223  14\n",
       "1   65  96"
      ]
     },
     "execution_count": 85,
     "metadata": {},
     "output_type": "execute_result"
    }
   ],
   "source": [
    "labels = sorted(y_train.survived.unique())\n",
    "pd.DataFrame(confusion_matrix(y_train, y_pred), index = labels, columns = labels)"
   ]
  },
  {
   "cell_type": "code",
   "execution_count": 88,
   "id": "52eb6d62-bdfb-43c1-b223-978ffc52af70",
   "metadata": {},
   "outputs": [
    {
     "data": {
      "text/plain": [
       "(223, 14, 65, 96)"
      ]
     },
     "execution_count": 88,
     "metadata": {},
     "output_type": "execute_result"
    }
   ],
   "source": [
    "# rows are truth, columns are pred\n",
    "tn, fp, fn, tp = confusion_matrix(y_train, y_pred).ravel()\n",
    "(tn, fp, fn, tp)"
   ]
  },
  {
   "cell_type": "code",
   "execution_count": 86,
   "id": "c58e01f5-bd92-43a0-bc71-5573a56ec7d9",
   "metadata": {},
   "outputs": [
    {
     "name": "stdout",
     "output_type": "stream",
     "text": [
      "              precision    recall  f1-score   support\n",
      "\n",
      "           0       0.77      0.94      0.85       237\n",
      "           1       0.87      0.60      0.71       161\n",
      "\n",
      "    accuracy                           0.80       398\n",
      "   macro avg       0.82      0.77      0.78       398\n",
      "weighted avg       0.81      0.80      0.79       398\n",
      "\n"
     ]
    }
   ],
   "source": [
    "print(classification_report(y_train, y_pred))"
   ]
  },
  {
   "cell_type": "markdown",
   "id": "8cadc79e-1b05-4d9b-9da2-a855dc24c122",
   "metadata": {},
   "source": [
    "4. Compute: Accuracy, true positive rate, false positive rate, true negative rate, false negative rate, precision, recall, f1-score, and support.\n",
    "- False positive rate: How likely is it we get a false positive when the actual value is negative? FP/(FP+TN)"
   ]
  },
  {
   "cell_type": "code",
   "execution_count": 89,
   "id": "e56c3673-58a6-45ef-86da-18e6b2ccd6d5",
   "metadata": {},
   "outputs": [
    {
     "name": "stdout",
     "output_type": "stream",
     "text": [
      "False positive rate: 5.91%\n"
     ]
    }
   ],
   "source": [
    "print(f\"False positive rate: {fp/(fp+tn):.2%}\")"
   ]
  },
  {
   "cell_type": "markdown",
   "id": "c809856a-3da9-4b5c-8962-f0f485e01ac7",
   "metadata": {},
   "source": [
    "- False negative rate: How likely is it we get a false negative when the actual value is positive? FN/(FN+TP)"
   ]
  },
  {
   "cell_type": "code",
   "execution_count": 91,
   "id": "b6be0b1e-1545-4136-824c-2905c1e575f5",
   "metadata": {},
   "outputs": [
    {
     "name": "stdout",
     "output_type": "stream",
     "text": [
      "False negative rate: 40.37%\n"
     ]
    }
   ],
   "source": [
    "print(f\"False negative rate: {fn/(fn+tp):.2%}\")"
   ]
  },
  {
   "cell_type": "markdown",
   "id": "7e0b4d34-80b7-4e76-9f3c-ea58a7e56200",
   "metadata": {},
   "source": [
    "- True positive rate: How likely is it we get a true positive when the actual value is positive? This is sensitivity/recall. TP/(TP+FN)"
   ]
  },
  {
   "cell_type": "code",
   "execution_count": 92,
   "id": "c5edbfad-af00-4579-963f-ef826ce59e06",
   "metadata": {},
   "outputs": [
    {
     "name": "stdout",
     "output_type": "stream",
     "text": [
      "True positive rate: 59.63%\n"
     ]
    }
   ],
   "source": [
    "print(f\"True positive rate: {tp/(tp+fn):.2%}\")"
   ]
  },
  {
   "cell_type": "markdown",
   "id": "5e8dc6fe-afe5-4360-b1fa-baabdf2fcfab",
   "metadata": {},
   "source": [
    "- True negative rate: How likely is it we get a true positive when the actual value is positive? This is specificity/selectivity. TN/(TN+FP)"
   ]
  },
  {
   "cell_type": "code",
   "execution_count": 93,
   "id": "9bd437b7-d67d-42bb-9e7e-013c137d68cc",
   "metadata": {},
   "outputs": [
    {
     "name": "stdout",
     "output_type": "stream",
     "text": [
      "True negative rate: 94.09%\n"
     ]
    }
   ],
   "source": [
    "print(f\"True negative rate: {tn/(fp+tn):.2%}\")"
   ]
  },
  {
   "cell_type": "markdown",
   "id": "f55e221d-8e3c-487b-9901-57fb6b7bb67a",
   "metadata": {},
   "source": [
    "5. Run through steps 2-4 using a different max_depth value."
   ]
  },
  {
   "cell_type": "code",
   "execution_count": 94,
   "id": "ece77890-afe9-4d43-8b73-93b51c784031",
   "metadata": {},
   "outputs": [],
   "source": [
    "def decision_tree(train, d = 5):\n",
    "    \n",
    "    selected_features = ['pclass','embark_town_Queenstown','embark_town_Southampton','sex_male']\n",
    "    X_train = train[selected_features]\n",
    "    y_train = train[['survived']]\n",
    "    clf = DecisionTreeClassifier(max_depth=d, random_state=123)\n",
    "    clf = clf.fit(X_train, y_train)\n",
    "    y_pred = clf.predict(X_train)\n",
    "    print(f\"Accuracy score on training set is: {accuracy_score(y_train.survived, y_pred):.2%}\")\n",
    "    print(classification_report(y_train, y_pred))\n",
    "    \n",
    "    tn, fp, fn, tp = confusion_matrix(y_train, y_pred).ravel()\n",
    "\n",
    "    print(f\"False positive rate: {fp/(fp+tn):.2%}\")\n",
    "    print(f\"False negative rate: {fn/(fn+tp):.2%}\")\n",
    "    print(f\"True positive rate: {tp/(tp+fn):.2%}\")\n",
    "    print(f\"True negative rate: {tn/(fp+tn):.2%}\")"
   ]
  },
  {
   "cell_type": "code",
   "execution_count": 100,
   "id": "848bcd79-5156-4c08-a717-c252d62075c1",
   "metadata": {},
   "outputs": [
    {
     "name": "stdout",
     "output_type": "stream",
     "text": [
      "For decision tree with depth 3:\n",
      "Accuracy score on training set is: 80.15%\n",
      "              precision    recall  f1-score   support\n",
      "\n",
      "           0       0.77      0.94      0.85       237\n",
      "           1       0.87      0.60      0.71       161\n",
      "\n",
      "    accuracy                           0.80       398\n",
      "   macro avg       0.82      0.77      0.78       398\n",
      "weighted avg       0.81      0.80      0.79       398\n",
      "\n",
      "False positive rate: 5.91%\n",
      "False negative rate: 40.37%\n",
      "True positive rate: 59.63%\n",
      "True negative rate: 94.09%\n",
      "For decision tree with depth 5:\n",
      "Accuracy score on training set is: 80.40%\n",
      "              precision    recall  f1-score   support\n",
      "\n",
      "           0       0.77      0.96      0.85       237\n",
      "           1       0.90      0.58      0.70       161\n",
      "\n",
      "    accuracy                           0.80       398\n",
      "   macro avg       0.84      0.77      0.78       398\n",
      "weighted avg       0.82      0.80      0.79       398\n",
      "\n",
      "False positive rate: 4.22%\n",
      "False negative rate: 42.24%\n",
      "True positive rate: 57.76%\n",
      "True negative rate: 95.78%\n"
     ]
    }
   ],
   "source": [
    "for i in range(3,6,2):\n",
    "    print(f'For decision tree with depth {i}:')\n",
    "    decision_tree(train, d = i)"
   ]
  },
  {
   "cell_type": "markdown",
   "id": "03037b93-ddc2-42ad-b472-f3bfc29f7e06",
   "metadata": {},
   "source": [
    "6. Which model performs better on your in-sample data?"
   ]
  },
  {
   "cell_type": "markdown",
   "id": "c8545af5-dbc9-4110-a766-c604f70240e1",
   "metadata": {},
   "source": [
    "### Between decision trees with depth of 3 and 5:\n",
    "    - with depth 5 accuracy is barely better at 80.4% compared to 80.15%\n",
    "    - fairly even performance otherwise - higher true negative rate for depth 5 but lower true positive rate\n"
   ]
  },
  {
   "cell_type": "markdown",
   "id": "58f2d32b-27f4-4ccc-975f-51f493a22a74",
   "metadata": {},
   "source": [
    "7. Which model performs best on your out-of-sample data, the validate set?"
   ]
  },
  {
   "cell_type": "code",
   "execution_count": null,
   "id": "670693e0-6997-454c-97b7-7599f705883a",
   "metadata": {},
   "outputs": [],
   "source": []
  }
 ],
 "metadata": {
  "kernelspec": {
   "display_name": "Python 3.9.7 64-bit ('base': conda)",
   "language": "python",
   "name": "python397jvsc74a57bd038cca0c38332a56087b24af0bc80247f4fced29cb4f7f437d91dc159adec9c4e"
  },
  "language_info": {
   "codemirror_mode": {
    "name": "ipython",
    "version": 3
   },
   "file_extension": ".py",
   "mimetype": "text/x-python",
   "name": "python",
   "nbconvert_exporter": "python",
   "pygments_lexer": "ipython3",
   "version": "3.9.7"
  }
 },
 "nbformat": 4,
 "nbformat_minor": 5
}
