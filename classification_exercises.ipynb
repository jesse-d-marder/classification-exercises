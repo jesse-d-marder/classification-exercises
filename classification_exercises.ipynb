{
 "cells": [
  {
   "cell_type": "code",
   "execution_count": 92,
   "id": "100d9e6e-a8a1-4fe3-854d-4cf23da14e8f",
   "metadata": {},
   "outputs": [],
   "source": [
    "import pandas as pd\n",
    "from pydataset import data\n",
    "import seaborn as sns\n",
    "import matplotlib.pyplot as plt\n",
    "from acquire import get_iris_data,get_telco_data,get_titantic_data\n",
    "from env import get_db_url\n",
    "from prepare import train_validate_test_split\n",
    "from scipy import stats"
   ]
  },
  {
   "cell_type": "markdown",
   "id": "edd6534f-925f-4e1e-b166-bd1b95ba96e7",
   "metadata": {},
   "source": [
    "## 4. In a jupyter notebook, classification_exercises.ipynb, use a python module (pydata or seaborn datasets) containing datasets as a source from the iris data. Create a pandas dataframe, df_iris, from this data."
   ]
  },
  {
   "cell_type": "code",
   "execution_count": null,
   "id": "7963df24-a686-4ce9-af70-f077ae747263",
   "metadata": {},
   "outputs": [],
   "source": [
    "df_iris = data('iris')"
   ]
  },
  {
   "cell_type": "markdown",
   "id": "a7b6ee64-8331-4bb7-9e86-37dd75877731",
   "metadata": {},
   "source": [
    "print the first 3 rows"
   ]
  },
  {
   "cell_type": "code",
   "execution_count": null,
   "id": "452e8048-9bf3-4fcc-a53a-b280c0a9748f",
   "metadata": {},
   "outputs": [],
   "source": [
    "df_iris.head(3)"
   ]
  },
  {
   "cell_type": "markdown",
   "id": "6995eddc-9459-4f9b-987a-3f3ff07eecda",
   "metadata": {},
   "source": [
    "print the number of rows and columns (shape)"
   ]
  },
  {
   "cell_type": "code",
   "execution_count": null,
   "id": "5788ad78-9cb8-4929-99f5-9a8ec56e67de",
   "metadata": {},
   "outputs": [],
   "source": [
    "df_iris.shape"
   ]
  },
  {
   "cell_type": "markdown",
   "id": "0be2eae6-abbb-422a-bd71-3eedbfa8031d",
   "metadata": {},
   "source": [
    "print the column names"
   ]
  },
  {
   "cell_type": "code",
   "execution_count": null,
   "id": "957a1d94-1327-4e60-b392-ed58c01692eb",
   "metadata": {},
   "outputs": [],
   "source": [
    "df_iris.columns"
   ]
  },
  {
   "cell_type": "markdown",
   "id": "a0b6f2b5-d65d-4d3d-8045-a0ba40eb097c",
   "metadata": {},
   "source": [
    "print the data type of each column"
   ]
  },
  {
   "cell_type": "code",
   "execution_count": null,
   "id": "30ab88d5-de9f-4ab8-93cc-e972950268aa",
   "metadata": {},
   "outputs": [],
   "source": [
    "df_iris.dtypes"
   ]
  },
  {
   "cell_type": "markdown",
   "id": "a9db5407-65e5-48c0-98ee-29abce84e4fe",
   "metadata": {},
   "source": [
    "print the summary statistics for each of the numeric variables. Would you recommend rescaling the data based on these statistics?"
   ]
  },
  {
   "cell_type": "code",
   "execution_count": null,
   "id": "e8d7746f-62e0-49fa-b66f-303269fc508e",
   "metadata": {},
   "outputs": [],
   "source": [
    "df_iris.describe()"
   ]
  },
  {
   "cell_type": "code",
   "execution_count": null,
   "id": "b431134f-4b1f-4dc8-bdec-3f2022c9f13a",
   "metadata": {},
   "outputs": [],
   "source": [
    "# Scaling does not seem to be required as all data is in cm"
   ]
  },
  {
   "cell_type": "markdown",
   "id": "21985c21-4b6e-4c25-83d4-b3927c6c05f8",
   "metadata": {},
   "source": [
    "## 5. Read the Table1_CustDetails table from your spreadsheet exercises google sheet into a dataframe named df_google_sheets."
   ]
  },
  {
   "cell_type": "code",
   "execution_count": null,
   "id": "69c1a88a-9f86-46a7-b710-4bb1a94c019b",
   "metadata": {},
   "outputs": [],
   "source": [
    "sheet_url = 'https://docs.google.com/spreadsheets/d/1kihBDi60lQX47cLTxNbLjnOnil0kLu922K7i5LM9hxE/edit#gid=1023018493'\n",
    "csv_export_url = sheet_url.replace('/edit#gid=', '/export?format=csv&gid=')\n",
    "df_google_sheets= pd.read_csv(csv_export_url)"
   ]
  },
  {
   "cell_type": "markdown",
   "id": "3e3157e9-b985-4487-807b-089f092d97c7",
   "metadata": {},
   "source": [
    "assign the first 100 rows to a new dataframe, df_excel_sample"
   ]
  },
  {
   "cell_type": "code",
   "execution_count": null,
   "id": "35ee9a49-6b1a-45c5-ab9e-bc654828205b",
   "metadata": {},
   "outputs": [],
   "source": [
    "df_google_sheets_sample = df_google_sheets.head(100)"
   ]
  },
  {
   "cell_type": "markdown",
   "id": "a28d2aee-40de-4eea-8c0b-60e068c4304c",
   "metadata": {},
   "source": [
    "print the number of rows of your original dataframe"
   ]
  },
  {
   "cell_type": "code",
   "execution_count": null,
   "id": "210ad4df-5283-4b90-a7a9-a3319abd252b",
   "metadata": {},
   "outputs": [],
   "source": [
    "df_google_sheets.shape[0]"
   ]
  },
  {
   "cell_type": "markdown",
   "id": "18460845-135e-4de4-9c1f-5b79a3025b82",
   "metadata": {},
   "source": [
    "print the first 5 column names"
   ]
  },
  {
   "cell_type": "code",
   "execution_count": null,
   "id": "bc89a80f-11e0-4bc6-b214-84da4de56b6f",
   "metadata": {},
   "outputs": [],
   "source": [
    "df_google_sheets.columns[:5]"
   ]
  },
  {
   "cell_type": "markdown",
   "id": "31d4accc-0f89-41fd-929e-ba7e9b6aa58e",
   "metadata": {},
   "source": [
    "print the column names that have a data type of object"
   ]
  },
  {
   "cell_type": "code",
   "execution_count": null,
   "id": "4e6178a7-6dc5-4486-926c-8a470ea095d3",
   "metadata": {},
   "outputs": [],
   "source": [
    "df_google_sheets.select_dtypes(include = 'object').columns"
   ]
  },
  {
   "cell_type": "markdown",
   "id": "b53a93cb-4dc2-4d00-b2cd-fc75559d4240",
   "metadata": {},
   "source": [
    "compute the range for each of the numeric variables."
   ]
  },
  {
   "cell_type": "code",
   "execution_count": null,
   "id": "6e83d466-3906-40b4-8897-bde0ae4d9b51",
   "metadata": {},
   "outputs": [],
   "source": [
    "df_google_sheets.select_dtypes(include = 'number').max()-df_google_sheets.select_dtypes(include = 'number').min()"
   ]
  },
  {
   "cell_type": "markdown",
   "id": "0a9661c7-1f61-42bc-84db-2961161ee8fe",
   "metadata": {},
   "source": [
    "## 6. Download your spreadsheet exercises google sheet as an excel file (File → Download → Microsoft Excel). Read the Table1_CustDetails worksheet into a dataframe named df_excel.\n"
   ]
  },
  {
   "cell_type": "code",
   "execution_count": null,
   "id": "46d441ce-3545-4e28-8a85-a956796fe163",
   "metadata": {},
   "outputs": [],
   "source": [
    "df_excel = pd.read_excel('innis_spreadsheet_exercises_marder.xlsx')"
   ]
  },
  {
   "cell_type": "markdown",
   "id": "380128cf-a780-429f-8aed-904094827920",
   "metadata": {},
   "source": [
    "assign the first 100 rows to a new dataframe, df_excel_sample"
   ]
  },
  {
   "cell_type": "code",
   "execution_count": null,
   "id": "d6394034-9428-4f22-aaab-4c6d6b584621",
   "metadata": {},
   "outputs": [],
   "source": [
    "df_excel_sample = df_excel.head(100)"
   ]
  },
  {
   "cell_type": "markdown",
   "id": "4792c891-2744-4ddd-be82-320ab611d0ba",
   "metadata": {},
   "source": [
    "print the number of rows of your original dataframe"
   ]
  },
  {
   "cell_type": "code",
   "execution_count": null,
   "id": "62d96e3a-4377-49f8-a7b6-2a73e359eb2c",
   "metadata": {},
   "outputs": [],
   "source": [
    "df_excel.shape[0]"
   ]
  },
  {
   "cell_type": "markdown",
   "id": "5d2a22d3-62b8-46dc-aab4-fd5df8e2eba6",
   "metadata": {},
   "source": [
    "print the first 5 column names"
   ]
  },
  {
   "cell_type": "code",
   "execution_count": null,
   "id": "f01c38f7-e4e7-4e80-9778-3550dfa01520",
   "metadata": {},
   "outputs": [],
   "source": [
    "df_excel.columns[:5]"
   ]
  },
  {
   "cell_type": "markdown",
   "id": "87a45146-66ab-487b-b14f-aada30fbd160",
   "metadata": {},
   "source": [
    "print the column names that have a data type of object"
   ]
  },
  {
   "cell_type": "code",
   "execution_count": null,
   "id": "8861b2d9-5a4c-4752-98dc-7231a8b45e9b",
   "metadata": {},
   "outputs": [],
   "source": [
    "df_excel.select_dtypes('object').columns"
   ]
  },
  {
   "cell_type": "markdown",
   "id": "5ba46c47-ea1a-4412-8154-5c53c0ebf406",
   "metadata": {},
   "source": [
    "compute the range for each of the numeric variables."
   ]
  },
  {
   "cell_type": "code",
   "execution_count": null,
   "id": "0a8b9d0d-c7ad-4877-82b9-1d47465d0554",
   "metadata": {},
   "outputs": [],
   "source": [
    "df_excel.select_dtypes(include = 'number').max()-df_excel.select_dtypes(include = 'number').min()"
   ]
  },
  {
   "cell_type": "markdown",
   "id": "6aa4974f-c8f1-43f9-84c9-23004c62b1a6",
   "metadata": {},
   "source": [
    "## 7. Read the data from this google sheet into a dataframe, df_google"
   ]
  },
  {
   "cell_type": "code",
   "execution_count": null,
   "id": "87a6cec0-3909-4cf7-9765-d7b71a26b122",
   "metadata": {},
   "outputs": [],
   "source": [
    "sheet_url = 'https://docs.google.com/spreadsheets/d/1Uhtml8KY19LILuZsrDtlsHHDC9wuDGUSe8LTEwvdI5g/edit#gid=341089357'\n",
    "csv_export_url = sheet_url.replace('/edit#gid=', '/export?format=csv&gid=')\n",
    "df_google = pd.read_csv(csv_export_url)"
   ]
  },
  {
   "cell_type": "markdown",
   "id": "2e2e6c91-f6f2-407b-9187-7cd80a797d9d",
   "metadata": {},
   "source": [
    "print the first 3 rows"
   ]
  },
  {
   "cell_type": "code",
   "execution_count": null,
   "id": "53b012ba-2cca-48cf-8089-ea6258685e1a",
   "metadata": {},
   "outputs": [],
   "source": [
    "df_google.head(3)"
   ]
  },
  {
   "cell_type": "markdown",
   "id": "421968a8-d3fa-4034-aba9-40757260fad1",
   "metadata": {},
   "source": [
    "print the number of rows and columns"
   ]
  },
  {
   "cell_type": "code",
   "execution_count": null,
   "id": "c640d9e9-68eb-4d07-b6af-850ff4f3ac6d",
   "metadata": {},
   "outputs": [],
   "source": [
    "df_google.shape"
   ]
  },
  {
   "cell_type": "markdown",
   "id": "6a45ac03-5936-41ef-a387-9fffa3b55e5e",
   "metadata": {},
   "source": [
    "print the column names"
   ]
  },
  {
   "cell_type": "code",
   "execution_count": null,
   "id": "8f9f4b32-90d5-4b58-be0d-4eba3d5de597",
   "metadata": {},
   "outputs": [],
   "source": [
    "df_google.columns"
   ]
  },
  {
   "cell_type": "markdown",
   "id": "350f9aa7-176c-4647-8591-aa04c1b64e0f",
   "metadata": {},
   "source": [
    "print the data type of each column"
   ]
  },
  {
   "cell_type": "code",
   "execution_count": null,
   "id": "955087be-f0f9-49b7-b033-1b800a0f4caa",
   "metadata": {},
   "outputs": [],
   "source": [
    "df_google.dtypes"
   ]
  },
  {
   "cell_type": "markdown",
   "id": "104f15c0-45f2-4f82-b675-09d9ec69cf8f",
   "metadata": {},
   "source": [
    "print the summary statistics for each of the numeric variables"
   ]
  },
  {
   "cell_type": "code",
   "execution_count": null,
   "id": "1c2ff7c0-654d-4bb0-b2af-6f1d5c004146",
   "metadata": {},
   "outputs": [],
   "source": [
    "df_google.describe()"
   ]
  },
  {
   "cell_type": "markdown",
   "id": "92a6e12f-d86c-4418-ab18-921607c84b1c",
   "metadata": {},
   "source": [
    "print the unique values for each of your categorical variables"
   ]
  },
  {
   "cell_type": "code",
   "execution_count": null,
   "id": "c2ddf1ad-5128-461a-88ad-acf0d198a795",
   "metadata": {},
   "outputs": [],
   "source": [
    "for col in df_google[df_google.columns[df_google.nunique()<10]]:\n",
    "    print(col,': ',df_google[col].unique())"
   ]
  },
  {
   "cell_type": "markdown",
   "id": "872c7d7f-39a2-49a2-932c-adc1006d7264",
   "metadata": {},
   "source": [
    "# Data Preparation Exercises"
   ]
  },
  {
   "cell_type": "code",
   "execution_count": null,
   "id": "c18e9f84-5fc3-47b3-8e61-7dec141e15bf",
   "metadata": {},
   "outputs": [],
   "source": [
    "# import splitting and imputing functions\n",
    "from sklearn.model_selection import train_test_split\n",
    "from sklearn.impute import SimpleImputer\n",
    "import numpy as np"
   ]
  },
  {
   "cell_type": "markdown",
   "id": "e4f2a646-8957-4085-a55c-f679d8703a9d",
   "metadata": {},
   "source": [
    "### Prepare Iris Data"
   ]
  },
  {
   "cell_type": "code",
   "execution_count": null,
   "id": "6cbfd239-f999-4482-955e-5e50a801e856",
   "metadata": {},
   "outputs": [],
   "source": [
    "iris = get_iris_data()"
   ]
  },
  {
   "cell_type": "code",
   "execution_count": null,
   "id": "e62f6fc1-3e1b-4e35-a72b-4c99cd7b4f16",
   "metadata": {},
   "outputs": [],
   "source": [
    "iris.head()"
   ]
  },
  {
   "cell_type": "code",
   "execution_count": null,
   "id": "8c8b3627-4622-4592-a222-85c5f4b0fc58",
   "metadata": {},
   "outputs": [],
   "source": [
    "iris = iris.drop(columns=['species_id','measurement_id'])"
   ]
  },
  {
   "cell_type": "code",
   "execution_count": null,
   "id": "4f52ea65-9bbd-43ab-a512-e650cbad6b91",
   "metadata": {},
   "outputs": [],
   "source": [
    "dummy_df = pd.get_dummies(iris[['species_name']], dummy_na=False, drop_first=[True])"
   ]
  },
  {
   "cell_type": "code",
   "execution_count": null,
   "id": "c4d9c7d2-5856-41b5-9322-5ab9fbfde27d",
   "metadata": {},
   "outputs": [],
   "source": [
    "iris = pd.concat([iris, dummy_df], axis = 1)\n",
    "iris.head()"
   ]
  },
  {
   "cell_type": "code",
   "execution_count": null,
   "id": "da484c22-3c0b-4567-b92c-89105acda704",
   "metadata": {},
   "outputs": [],
   "source": [
    "def prep_iris(iris):\n",
    "    iris = iris.drop(columns=['species_id','measurement_id'])\n",
    "    iris = iris.rename(columns={'species_name':'species'})\n",
    "    dummy_df = pd.get_dummies(iris[['species']], dummy_na=False, drop_first=[True])\n",
    "    iris = pd.concat([iris, dummy_df], axis = 1)\n",
    "    iris = iris.drop(columns=['species'])\n",
    "\n",
    "    return iris"
   ]
  },
  {
   "cell_type": "code",
   "execution_count": null,
   "id": "4e1998d0-f0f5-4eff-80be-6d3e41480094",
   "metadata": {},
   "outputs": [],
   "source": [
    "iris = prep_iris(get_iris_data())"
   ]
  },
  {
   "cell_type": "code",
   "execution_count": null,
   "id": "4b13998c-e3f9-4399-8541-0efe1802e074",
   "metadata": {},
   "outputs": [],
   "source": [
    "iris.head()"
   ]
  },
  {
   "cell_type": "markdown",
   "id": "72e56d9a-244e-4d50-9de4-41e6f5911077",
   "metadata": {},
   "source": [
    "## Use Titantic dataset"
   ]
  },
  {
   "cell_type": "code",
   "execution_count": null,
   "id": "596c3e2b-2bc9-4bb8-b57c-19cd161ec61d",
   "metadata": {},
   "outputs": [],
   "source": [
    "df = get_titantic_data()"
   ]
  },
  {
   "cell_type": "code",
   "execution_count": null,
   "id": "001a99ec-665f-41c3-ac1f-8f86032bd223",
   "metadata": {},
   "outputs": [],
   "source": [
    "df = df.drop(columns=['passenger_id','embarked','deck','class','age'])"
   ]
  },
  {
   "cell_type": "code",
   "execution_count": null,
   "id": "00c489a3-484b-41bd-9472-4abbc8261e6b",
   "metadata": {},
   "outputs": [],
   "source": [
    "dummy_df = pd.get_dummies(df[['sex','embark_town']], dummy_na=False, drop_first=True)\n",
    "df = pd.concat([df,dummy_df], axis = 1)"
   ]
  },
  {
   "cell_type": "code",
   "execution_count": null,
   "id": "bd71ff0f-d7a7-42b1-a269-3ce2161a1930",
   "metadata": {},
   "outputs": [],
   "source": [
    "train, test = train_test_split(df,test_size=0.2,random_state=123, stratify=df.survived)"
   ]
  },
  {
   "cell_type": "code",
   "execution_count": null,
   "id": "5a36ad94-8727-4973-8e3a-64889938366d",
   "metadata": {},
   "outputs": [],
   "source": [
    "train.shape"
   ]
  },
  {
   "cell_type": "code",
   "execution_count": null,
   "id": "d9a3b73f-1ea6-475c-b9fb-658a21a4c78e",
   "metadata": {},
   "outputs": [],
   "source": [
    "test.shape"
   ]
  },
  {
   "cell_type": "code",
   "execution_count": null,
   "id": "29ddc82d-2c3d-42da-b9f2-d64c3a5080c0",
   "metadata": {},
   "outputs": [],
   "source": [
    "train, validate = train_test_split(train, test_size=0.3, random_state=123, stratify=train.survived)"
   ]
  },
  {
   "cell_type": "code",
   "execution_count": null,
   "id": "b4625960-937d-4a2a-bd8d-525d2c9501d7",
   "metadata": {},
   "outputs": [],
   "source": [
    "validate.shape"
   ]
  },
  {
   "cell_type": "code",
   "execution_count": null,
   "id": "0ce1a113-4ccc-44e0-83dd-e84ff6c248ba",
   "metadata": {},
   "outputs": [],
   "source": [
    "imputer = SimpleImputer(missing_values = np.nan, strategy='most_frequent')"
   ]
  },
  {
   "cell_type": "code",
   "execution_count": null,
   "id": "bf30cd0d-fb01-4538-ae03-bc24da0f2066",
   "metadata": {},
   "outputs": [],
   "source": [
    "imputer = imputer.fit(train[['embark_town']])\n",
    "imputer.statistics_"
   ]
  },
  {
   "cell_type": "code",
   "execution_count": null,
   "id": "356897de-0416-40f5-b09e-0e87b752d8ef",
   "metadata": {},
   "outputs": [],
   "source": [
    "train[['embark_town']] = imputer.transform(train[['embark_town']])\n",
    "test[['embark_town']] = imputer.transform(test[['embark_town']])\n",
    "validate[['embark_town']] = imputer.transform(validate[['embark_town']])"
   ]
  },
  {
   "cell_type": "code",
   "execution_count": null,
   "id": "09cab2c8-9f76-43f3-b56c-741e23a6c490",
   "metadata": {},
   "outputs": [],
   "source": [
    "validate.embark_town.value_counts(dropna=False)"
   ]
  },
  {
   "cell_type": "code",
   "execution_count": null,
   "id": "33bbbe91-b2b7-4c53-b2e4-09fe64a50731",
   "metadata": {},
   "outputs": [],
   "source": [
    "def prep_titantic(df):\n",
    "    df = df.drop(columns=['passenger_id','embarked','deck','class','age'])\n",
    "    df.embark_town = df.embark_town.fillna('Southampton')\n",
    "    dummy_df = pd.get_dummies(df[['sex','embark_town']], dummy_na=False, drop_first=True)\n",
    "    df = pd.concat([df,dummy_df], axis = 1)\n",
    "    \n",
    "    return df.drop(columns=['sex','embark_town'])"
   ]
  },
  {
   "cell_type": "code",
   "execution_count": null,
   "id": "cfb35662-a89e-4586-845c-359eb22e18ec",
   "metadata": {},
   "outputs": [],
   "source": [
    "prep_titantic(get_titantic_data())"
   ]
  },
  {
   "cell_type": "markdown",
   "id": "58d08b51-dd7c-4b87-ad6f-862eb2d19c66",
   "metadata": {},
   "source": [
    "## Use Telco Dataset"
   ]
  },
  {
   "cell_type": "code",
   "execution_count": null,
   "id": "fc73e114-2d82-4fc4-aa0e-258b371566e4",
   "metadata": {},
   "outputs": [],
   "source": [
    "df = get_telco_data()"
   ]
  },
  {
   "cell_type": "code",
   "execution_count": null,
   "id": "d328db0e-ef2e-4667-92fe-dfa3ae0e3936",
   "metadata": {},
   "outputs": [],
   "source": [
    "df = df.replace(\" \",np.nan)"
   ]
  },
  {
   "cell_type": "code",
   "execution_count": null,
   "id": "83757454-29c8-444b-816c-907ca4d76ef4",
   "metadata": {},
   "outputs": [],
   "source": [
    "df.shape"
   ]
  },
  {
   "cell_type": "code",
   "execution_count": null,
   "id": "0e58bd0c-4e28-48c4-8365-396a97b83543",
   "metadata": {},
   "outputs": [],
   "source": [
    "df = df.dropna()\n",
    "df.shape"
   ]
  },
  {
   "cell_type": "code",
   "execution_count": null,
   "id": "7559cdfc-7740-4e65-8ff4-40fbd64f9e89",
   "metadata": {},
   "outputs": [],
   "source": [
    "df.columns"
   ]
  },
  {
   "cell_type": "code",
   "execution_count": null,
   "id": "71529a19-c288-4bf5-be7f-73bd4bac2e57",
   "metadata": {},
   "outputs": [],
   "source": [
    "df.total_charges = df.total_charges.astype('float64')"
   ]
  },
  {
   "cell_type": "code",
   "execution_count": null,
   "id": "36a5fe50-94be-4b44-b6c5-39c38870e932",
   "metadata": {},
   "outputs": [],
   "source": [
    "df = df.drop(columns=['payment_type_id','internet_service_type_id','contract_type_id'])"
   ]
  },
  {
   "cell_type": "code",
   "execution_count": null,
   "id": "71098567-a65a-4a9d-a8bb-f3d87326a1ae",
   "metadata": {},
   "outputs": [],
   "source": [
    "catcol = df.columns[(df.nunique()<5)&(df.dtypes == 'object')]"
   ]
  },
  {
   "cell_type": "code",
   "execution_count": null,
   "id": "034585e5-7340-4c42-955b-e9652cc65845",
   "metadata": {},
   "outputs": [],
   "source": [
    "dummy_df = pd.get_dummies(df[catcol], dummy_na=False, drop_first=True)"
   ]
  },
  {
   "cell_type": "code",
   "execution_count": null,
   "id": "54cd30a3-4741-44d4-b27a-8bbad7584def",
   "metadata": {},
   "outputs": [],
   "source": [
    "df = pd.concat([df,dummy_df],axis=1)"
   ]
  },
  {
   "cell_type": "code",
   "execution_count": null,
   "id": "8a585755-e667-4b7b-b770-21a55d9d3184",
   "metadata": {},
   "outputs": [],
   "source": [
    "df.shape"
   ]
  },
  {
   "cell_type": "code",
   "execution_count": null,
   "id": "f18a5a05-1737-4fdd-8f69-11f0acd68d20",
   "metadata": {},
   "outputs": [],
   "source": [
    "df = df.drop(columns=catcol)"
   ]
  },
  {
   "cell_type": "code",
   "execution_count": null,
   "id": "07b4d598-3ba8-46ff-83ca-01d7584adb22",
   "metadata": {},
   "outputs": [],
   "source": [
    "df.shape"
   ]
  },
  {
   "cell_type": "code",
   "execution_count": null,
   "id": "6c1c2fd2-8a1b-4c86-b6d8-f68b7ec800ec",
   "metadata": {},
   "outputs": [],
   "source": [
    "def prep_telco(df):\n",
    "    # replace whitespace only cells with nan\n",
    "    df = df.replace(\" \",np.nan)\n",
    "    # Drop the rows with NAs \n",
    "    df = df.dropna()\n",
    "    # Change total_charges type to float\n",
    "    df.total_charges = df.total_charges.astype('float64')\n",
    "    # Drop unnecessary foreign key ids\n",
    "    df = df.drop(columns=['payment_type_id','internet_service_type_id','contract_type_id'])\n",
    "    # Determine the categorical variables - here defined as object data type (non-numeric) and with fewer than 5 values\n",
    "    catcol = df.columns[(df.nunique()<5)&(df.dtypes == 'object')]\n",
    "    # Encode categoricals\n",
    "    dummy_df = pd.get_dummies(df[catcol], dummy_na=False, drop_first=True)\n",
    "    # Concatenate dummy df to original df\n",
    "    df = pd.concat([df,dummy_df],axis=1)\n",
    "    # Remove the original categorical columns after encoding\n",
    "    df = df.drop(columns=catcol)\n",
    "    \n",
    "    return df"
   ]
  },
  {
   "cell_type": "code",
   "execution_count": null,
   "id": "f846db83-4e18-45fc-b37b-34b798ec946b",
   "metadata": {},
   "outputs": [],
   "source": [
    "prep_telco(get_telco_data())"
   ]
  },
  {
   "cell_type": "markdown",
   "id": "397fe53f-9a4b-4353-abce-c161a77920a1",
   "metadata": {},
   "source": [
    "## Exploratory Analysis"
   ]
  },
  {
   "cell_type": "markdown",
   "id": "e3a5b2a1-c138-42a3-9b8a-35f0fa33133c",
   "metadata": {},
   "source": [
    "## Exercises\n",
    "\n",
    "Continue in your `classification_exercises.ipynb` notebook. Use the iris dataset. As always, add, commit, and push your changes.\n",
    "\n",
    "1. Split your data into train, validate, and test samples."
   ]
  },
  {
   "cell_type": "code",
   "execution_count": 9,
   "id": "0674471f-f672-4916-ba45-47f1c6251866",
   "metadata": {},
   "outputs": [],
   "source": [
    "from prepare import prep_iris"
   ]
  },
  {
   "cell_type": "code",
   "execution_count": 78,
   "id": "8f1a363d-3502-4c1b-bc95-382a81948886",
   "metadata": {},
   "outputs": [
    {
     "name": "stdout",
     "output_type": "stream",
     "text": [
      "Using cached data\n"
     ]
    }
   ],
   "source": [
    "iris = get_iris_data()"
   ]
  },
  {
   "cell_type": "code",
   "execution_count": 79,
   "id": "657737a3-f400-46c2-b996-6f3a74ebaa66",
   "metadata": {},
   "outputs": [],
   "source": [
    "train, validate, test = train_validate_test_split(iris, target = 'species_name')"
   ]
  },
  {
   "cell_type": "code",
   "execution_count": 80,
   "id": "e7b8839d-4c6d-4a72-bd1d-502d22a96f71",
   "metadata": {},
   "outputs": [
    {
     "data": {
      "text/plain": [
       "((84, 7), (36, 7), (30, 7))"
      ]
     },
     "execution_count": 80,
     "metadata": {},
     "output_type": "execute_result"
    }
   ],
   "source": [
    "train.shape, validate.shape, test.shape"
   ]
  },
  {
   "cell_type": "code",
   "execution_count": 81,
   "id": "8fc50f89-216e-437d-8356-639ab7ef576b",
   "metadata": {},
   "outputs": [],
   "source": [
    "train = train.drop(columns=['measurement_id','species_id'])\n",
    "train = train.rename(columns={'species_name':'species'})"
   ]
  },
  {
   "cell_type": "code",
   "execution_count": 82,
   "id": "347644ed-c163-4bb6-b755-72e9330004e8",
   "metadata": {},
   "outputs": [
    {
     "data": {
      "text/html": [
       "<div>\n",
       "<style scoped>\n",
       "    .dataframe tbody tr th:only-of-type {\n",
       "        vertical-align: middle;\n",
       "    }\n",
       "\n",
       "    .dataframe tbody tr th {\n",
       "        vertical-align: top;\n",
       "    }\n",
       "\n",
       "    .dataframe thead th {\n",
       "        text-align: right;\n",
       "    }\n",
       "</style>\n",
       "<table border=\"1\" class=\"dataframe\">\n",
       "  <thead>\n",
       "    <tr style=\"text-align: right;\">\n",
       "      <th></th>\n",
       "      <th>sepal_length</th>\n",
       "      <th>sepal_width</th>\n",
       "      <th>petal_length</th>\n",
       "      <th>petal_width</th>\n",
       "      <th>species</th>\n",
       "    </tr>\n",
       "  </thead>\n",
       "  <tbody>\n",
       "    <tr>\n",
       "      <th>79</th>\n",
       "      <td>5.7</td>\n",
       "      <td>2.6</td>\n",
       "      <td>3.5</td>\n",
       "      <td>1.0</td>\n",
       "      <td>versicolor</td>\n",
       "    </tr>\n",
       "    <tr>\n",
       "      <th>36</th>\n",
       "      <td>5.5</td>\n",
       "      <td>3.5</td>\n",
       "      <td>1.3</td>\n",
       "      <td>0.2</td>\n",
       "      <td>setosa</td>\n",
       "    </tr>\n",
       "    <tr>\n",
       "      <th>133</th>\n",
       "      <td>6.3</td>\n",
       "      <td>2.8</td>\n",
       "      <td>5.1</td>\n",
       "      <td>1.5</td>\n",
       "      <td>virginica</td>\n",
       "    </tr>\n",
       "    <tr>\n",
       "      <th>95</th>\n",
       "      <td>5.7</td>\n",
       "      <td>3.0</td>\n",
       "      <td>4.2</td>\n",
       "      <td>1.2</td>\n",
       "      <td>versicolor</td>\n",
       "    </tr>\n",
       "    <tr>\n",
       "      <th>18</th>\n",
       "      <td>5.7</td>\n",
       "      <td>3.8</td>\n",
       "      <td>1.7</td>\n",
       "      <td>0.3</td>\n",
       "      <td>setosa</td>\n",
       "    </tr>\n",
       "  </tbody>\n",
       "</table>\n",
       "</div>"
      ],
      "text/plain": [
       "     sepal_length  sepal_width  petal_length  petal_width     species\n",
       "79            5.7          2.6           3.5          1.0  versicolor\n",
       "36            5.5          3.5           1.3          0.2      setosa\n",
       "133           6.3          2.8           5.1          1.5   virginica\n",
       "95            5.7          3.0           4.2          1.2  versicolor\n",
       "18            5.7          3.8           1.7          0.3      setosa"
      ]
     },
     "execution_count": 82,
     "metadata": {},
     "output_type": "execute_result"
    }
   ],
   "source": [
    "train.head()"
   ]
  },
  {
   "cell_type": "markdown",
   "id": "77c83087-05a1-42af-9821-bd694d25329c",
   "metadata": {},
   "source": [
    "### 2. Univariate stats:\n",
    "    - for quantitiative variables: histogram, boxplot, and compute descriptive statistics"
   ]
  },
  {
   "cell_type": "code",
   "execution_count": 83,
   "id": "11796511-93e7-470d-91e6-058da752b0af",
   "metadata": {},
   "outputs": [],
   "source": [
    "numerics = train.columns[train.dtypes=='float64']"
   ]
  },
  {
   "cell_type": "code",
   "execution_count": 84,
   "id": "f5cda8b7-42b3-420a-b9c8-b94b7aed89f9",
   "metadata": {},
   "outputs": [
    {
     "data": {
      "image/png": "[encoded data removed]",
      "text/plain": [
       "<Figure size 1152x432 with 4 Axes>"
      ]
     },
     "metadata": {
      "needs_background": "light"
     },
     "output_type": "display_data"
    }
   ],
   "source": [
    "_, ax = plt.subplots(nrows=1, ncols=4, figsize=(16, 6), sharey=True)\n",
    "for i,col in enumerate(numerics):\n",
    "    sns.histplot(x=col, data=train, ax=ax[i])\n",
    "    ax[i].set_xlabel('')\n",
    "    ax[i].set_ylabel('count_of_values')\n",
    "    ax[i].set_title(col)\n"
   ]
  },
  {
   "cell_type": "code",
   "execution_count": 85,
   "id": "03c3740c-21d5-4eb1-bfee-406fa225ee31",
   "metadata": {},
   "outputs": [
    {
     "data": {
      "image/png": "[encoded data removed]",
      "text/plain": [
       "<Figure size 1152x432 with 4 Axes>"
      ]
     },
     "metadata": {
      "needs_background": "light"
     },
     "output_type": "display_data"
    }
   ],
   "source": [
    "_, ax = plt.subplots(nrows=1, ncols=4, figsize=(16, 6))\n",
    "for i,col in enumerate(numerics):\n",
    "    sns.boxplot(y=col, data=train, ax=ax[i])\n",
    "    ax[i].set_title(col)"
   ]
  },
  {
   "cell_type": "code",
   "execution_count": 86,
   "id": "497fab1f-632d-4942-8a97-55dc150ecffb",
   "metadata": {},
   "outputs": [
    {
     "data": {
      "text/html": [
       "<div>\n",
       "<style scoped>\n",
       "    .dataframe tbody tr th:only-of-type {\n",
       "        vertical-align: middle;\n",
       "    }\n",
       "\n",
       "    .dataframe tbody tr th {\n",
       "        vertical-align: top;\n",
       "    }\n",
       "\n",
       "    .dataframe thead th {\n",
       "        text-align: right;\n",
       "    }\n",
       "</style>\n",
       "<table border=\"1\" class=\"dataframe\">\n",
       "  <thead>\n",
       "    <tr style=\"text-align: right;\">\n",
       "      <th></th>\n",
       "      <th>sepal_length</th>\n",
       "      <th>sepal_width</th>\n",
       "      <th>petal_length</th>\n",
       "      <th>petal_width</th>\n",
       "    </tr>\n",
       "  </thead>\n",
       "  <tbody>\n",
       "    <tr>\n",
       "      <th>count</th>\n",
       "      <td>84.000000</td>\n",
       "      <td>84.000000</td>\n",
       "      <td>84.000000</td>\n",
       "      <td>84.000000</td>\n",
       "    </tr>\n",
       "    <tr>\n",
       "      <th>mean</th>\n",
       "      <td>5.870238</td>\n",
       "      <td>3.075000</td>\n",
       "      <td>3.771429</td>\n",
       "      <td>1.203571</td>\n",
       "    </tr>\n",
       "    <tr>\n",
       "      <th>std</th>\n",
       "      <td>0.769099</td>\n",
       "      <td>0.448256</td>\n",
       "      <td>1.734940</td>\n",
       "      <td>0.752577</td>\n",
       "    </tr>\n",
       "    <tr>\n",
       "      <th>min</th>\n",
       "      <td>4.400000</td>\n",
       "      <td>2.200000</td>\n",
       "      <td>1.200000</td>\n",
       "      <td>0.100000</td>\n",
       "    </tr>\n",
       "    <tr>\n",
       "      <th>25%</th>\n",
       "      <td>5.375000</td>\n",
       "      <td>2.800000</td>\n",
       "      <td>1.600000</td>\n",
       "      <td>0.400000</td>\n",
       "    </tr>\n",
       "    <tr>\n",
       "      <th>50%</th>\n",
       "      <td>5.800000</td>\n",
       "      <td>3.000000</td>\n",
       "      <td>4.250000</td>\n",
       "      <td>1.300000</td>\n",
       "    </tr>\n",
       "    <tr>\n",
       "      <th>75%</th>\n",
       "      <td>6.400000</td>\n",
       "      <td>3.400000</td>\n",
       "      <td>5.100000</td>\n",
       "      <td>1.800000</td>\n",
       "    </tr>\n",
       "    <tr>\n",
       "      <th>max</th>\n",
       "      <td>7.900000</td>\n",
       "      <td>4.400000</td>\n",
       "      <td>6.900000</td>\n",
       "      <td>2.500000</td>\n",
       "    </tr>\n",
       "  </tbody>\n",
       "</table>\n",
       "</div>"
      ],
      "text/plain": [
       "       sepal_length  sepal_width  petal_length  petal_width\n",
       "count     84.000000    84.000000     84.000000    84.000000\n",
       "mean       5.870238     3.075000      3.771429     1.203571\n",
       "std        0.769099     0.448256      1.734940     0.752577\n",
       "min        4.400000     2.200000      1.200000     0.100000\n",
       "25%        5.375000     2.800000      1.600000     0.400000\n",
       "50%        5.800000     3.000000      4.250000     1.300000\n",
       "75%        6.400000     3.400000      5.100000     1.800000\n",
       "max        7.900000     4.400000      6.900000     2.500000"
      ]
     },
     "execution_count": 86,
     "metadata": {},
     "output_type": "execute_result"
    }
   ],
   "source": [
    "train.describe()"
   ]
  },
  {
   "cell_type": "markdown",
   "id": "2aa87481-0586-4210-89b0-51ee086a0b88",
   "metadata": {},
   "source": [
    "For each species (categorical variable): create a frequency table and a bar plot of those frequencies"
   ]
  },
  {
   "cell_type": "code",
   "execution_count": 87,
   "id": "f6a937db-5b1c-4ecb-98d2-77cbff37b2c9",
   "metadata": {},
   "outputs": [
    {
     "data": {
      "text/plain": [
       "Text(0.5, 1.0, 'Species frequency')"
      ]
     },
     "execution_count": 87,
     "metadata": {},
     "output_type": "execute_result"
    },
    {
     "data": {
      "image/png": "[encoded data removed]",
      "text/plain": [
       "<Figure size 432x288 with 1 Axes>"
      ]
     },
     "metadata": {
      "needs_background": "light"
     },
     "output_type": "display_data"
    }
   ],
   "source": [
    "train.species.value_counts(normalize=True).plot.bar()\n",
    "plt.title('Species frequency')"
   ]
  },
  {
   "cell_type": "markdown",
   "id": "542019a9-89db-4b1d-bc18-725241eb6933",
   "metadata": {},
   "source": [
    "### Takeaways:\n",
    "    - Species are evenly distributed in the data set\n",
    "    - Sepal length and width are fairly normally distributed, petal length and width are not so normal. Petal length is particularly skewed to lower values. \n",
    "    - Minimal outliers for the most part - only one is a high value for sepal width"
   ]
  },
  {
   "cell_type": "markdown",
   "id": "831a00b5-615b-494d-b304-cfe8ed20fca4",
   "metadata": {},
   "source": [
    "## Bivariate stats"
   ]
  },
  {
   "cell_type": "markdown",
   "id": "121df701-b83a-4541-bc73-db12b1ab5fd6",
   "metadata": {},
   "source": [
    "### Visualize each measurement type (y-axis) with the species variable (x-axis) using barplots, adding a horizontal line showing the overall mean of the metric (y-axis)."
   ]
  },
  {
   "cell_type": "code",
   "execution_count": 88,
   "id": "ff534a3a-9414-4751-93e2-a5170f8129c6",
   "metadata": {},
   "outputs": [
    {
     "data": {
      "image/png": "[encoded data removed]",
      "text/plain": [
       "<Figure size 1152x432 with 4 Axes>"
      ]
     },
     "metadata": {
      "needs_background": "light"
     },
     "output_type": "display_data"
    }
   ],
   "source": [
    "_, ax = plt.subplots(nrows=1, ncols=4, figsize=(16, 6), sharey=False)\n",
    "for i,col in enumerate(numerics):\n",
    "    average_value = train[col].mean()\n",
    "    sns.barplot(x='species', y=col, data=train, ax=ax[i])\n",
    "    ax[i].set_xlabel('')\n",
    "    ax[i].axhline(y=average_value,linewidth=4, color='red', ls='--')\n",
    "    # ax[i].set_ylabel('count_of_values')\n",
    "    ax[i].set_title(col)\n",
    "    plt.tight_layout()"
   ]
  },
  {
   "cell_type": "code",
   "execution_count": 89,
   "id": "c3cd7c6b-8b2c-41ee-8824-7f31fb8a9ae7",
   "metadata": {},
   "outputs": [
    {
     "data": {
      "text/html": [
       "<div>\n",
       "<style scoped>\n",
       "    .dataframe tbody tr th:only-of-type {\n",
       "        vertical-align: middle;\n",
       "    }\n",
       "\n",
       "    .dataframe tbody tr th {\n",
       "        vertical-align: top;\n",
       "    }\n",
       "\n",
       "    .dataframe thead th {\n",
       "        text-align: right;\n",
       "    }\n",
       "</style>\n",
       "<table border=\"1\" class=\"dataframe\">\n",
       "  <thead>\n",
       "    <tr style=\"text-align: right;\">\n",
       "      <th></th>\n",
       "      <th>species</th>\n",
       "      <th>setosa</th>\n",
       "      <th>versicolor</th>\n",
       "      <th>virginica</th>\n",
       "    </tr>\n",
       "  </thead>\n",
       "  <tbody>\n",
       "    <tr>\n",
       "      <th rowspan=\"8\" valign=\"top\">sepal_length</th>\n",
       "      <th>count</th>\n",
       "      <td>28.000000</td>\n",
       "      <td>28.000000</td>\n",
       "      <td>28.000000</td>\n",
       "    </tr>\n",
       "    <tr>\n",
       "      <th>mean</th>\n",
       "      <td>5.089286</td>\n",
       "      <td>5.896429</td>\n",
       "      <td>6.625000</td>\n",
       "    </tr>\n",
       "    <tr>\n",
       "      <th>std</th>\n",
       "      <td>0.360390</td>\n",
       "      <td>0.425556</td>\n",
       "      <td>0.532378</td>\n",
       "    </tr>\n",
       "    <tr>\n",
       "      <th>min</th>\n",
       "      <td>4.400000</td>\n",
       "      <td>4.900000</td>\n",
       "      <td>5.800000</td>\n",
       "    </tr>\n",
       "    <tr>\n",
       "      <th>25%</th>\n",
       "      <td>4.875000</td>\n",
       "      <td>5.600000</td>\n",
       "      <td>6.300000</td>\n",
       "    </tr>\n",
       "    <tr>\n",
       "      <th>50%</th>\n",
       "      <td>5.000000</td>\n",
       "      <td>5.800000</td>\n",
       "      <td>6.450000</td>\n",
       "    </tr>\n",
       "    <tr>\n",
       "      <th>75%</th>\n",
       "      <td>5.400000</td>\n",
       "      <td>6.125000</td>\n",
       "      <td>6.900000</td>\n",
       "    </tr>\n",
       "    <tr>\n",
       "      <th>max</th>\n",
       "      <td>5.800000</td>\n",
       "      <td>6.900000</td>\n",
       "      <td>7.900000</td>\n",
       "    </tr>\n",
       "    <tr>\n",
       "      <th rowspan=\"8\" valign=\"top\">sepal_width</th>\n",
       "      <th>count</th>\n",
       "      <td>28.000000</td>\n",
       "      <td>28.000000</td>\n",
       "      <td>28.000000</td>\n",
       "    </tr>\n",
       "    <tr>\n",
       "      <th>mean</th>\n",
       "      <td>3.467857</td>\n",
       "      <td>2.796429</td>\n",
       "      <td>2.960714</td>\n",
       "    </tr>\n",
       "    <tr>\n",
       "      <th>std</th>\n",
       "      <td>0.427788</td>\n",
       "      <td>0.280848</td>\n",
       "      <td>0.318956</td>\n",
       "    </tr>\n",
       "    <tr>\n",
       "      <th>min</th>\n",
       "      <td>2.300000</td>\n",
       "      <td>2.300000</td>\n",
       "      <td>2.200000</td>\n",
       "    </tr>\n",
       "    <tr>\n",
       "      <th>25%</th>\n",
       "      <td>3.275000</td>\n",
       "      <td>2.600000</td>\n",
       "      <td>2.800000</td>\n",
       "    </tr>\n",
       "    <tr>\n",
       "      <th>50%</th>\n",
       "      <td>3.400000</td>\n",
       "      <td>2.800000</td>\n",
       "      <td>3.000000</td>\n",
       "    </tr>\n",
       "    <tr>\n",
       "      <th>75%</th>\n",
       "      <td>3.800000</td>\n",
       "      <td>3.000000</td>\n",
       "      <td>3.100000</td>\n",
       "    </tr>\n",
       "    <tr>\n",
       "      <th>max</th>\n",
       "      <td>4.400000</td>\n",
       "      <td>3.400000</td>\n",
       "      <td>3.800000</td>\n",
       "    </tr>\n",
       "    <tr>\n",
       "      <th rowspan=\"8\" valign=\"top\">petal_length</th>\n",
       "      <th>count</th>\n",
       "      <td>28.000000</td>\n",
       "      <td>28.000000</td>\n",
       "      <td>28.000000</td>\n",
       "    </tr>\n",
       "    <tr>\n",
       "      <th>mean</th>\n",
       "      <td>1.507143</td>\n",
       "      <td>4.271429</td>\n",
       "      <td>5.535714</td>\n",
       "    </tr>\n",
       "    <tr>\n",
       "      <th>std</th>\n",
       "      <td>0.184448</td>\n",
       "      <td>0.409930</td>\n",
       "      <td>0.496815</td>\n",
       "    </tr>\n",
       "    <tr>\n",
       "      <th>min</th>\n",
       "      <td>1.200000</td>\n",
       "      <td>3.300000</td>\n",
       "      <td>4.800000</td>\n",
       "    </tr>\n",
       "    <tr>\n",
       "      <th>25%</th>\n",
       "      <td>1.400000</td>\n",
       "      <td>4.000000</td>\n",
       "      <td>5.100000</td>\n",
       "    </tr>\n",
       "    <tr>\n",
       "      <th>50%</th>\n",
       "      <td>1.500000</td>\n",
       "      <td>4.250000</td>\n",
       "      <td>5.500000</td>\n",
       "    </tr>\n",
       "    <tr>\n",
       "      <th>75%</th>\n",
       "      <td>1.600000</td>\n",
       "      <td>4.525000</td>\n",
       "      <td>5.800000</td>\n",
       "    </tr>\n",
       "    <tr>\n",
       "      <th>max</th>\n",
       "      <td>1.900000</td>\n",
       "      <td>5.100000</td>\n",
       "      <td>6.900000</td>\n",
       "    </tr>\n",
       "    <tr>\n",
       "      <th rowspan=\"8\" valign=\"top\">petal_width</th>\n",
       "      <th>count</th>\n",
       "      <td>28.000000</td>\n",
       "      <td>28.000000</td>\n",
       "      <td>28.000000</td>\n",
       "    </tr>\n",
       "    <tr>\n",
       "      <th>mean</th>\n",
       "      <td>0.275000</td>\n",
       "      <td>1.314286</td>\n",
       "      <td>2.021429</td>\n",
       "    </tr>\n",
       "    <tr>\n",
       "      <th>std</th>\n",
       "      <td>0.120570</td>\n",
       "      <td>0.199470</td>\n",
       "      <td>0.293582</td>\n",
       "    </tr>\n",
       "    <tr>\n",
       "      <th>min</th>\n",
       "      <td>0.100000</td>\n",
       "      <td>1.000000</td>\n",
       "      <td>1.500000</td>\n",
       "    </tr>\n",
       "    <tr>\n",
       "      <th>25%</th>\n",
       "      <td>0.200000</td>\n",
       "      <td>1.200000</td>\n",
       "      <td>1.800000</td>\n",
       "    </tr>\n",
       "    <tr>\n",
       "      <th>50%</th>\n",
       "      <td>0.200000</td>\n",
       "      <td>1.300000</td>\n",
       "      <td>2.000000</td>\n",
       "    </tr>\n",
       "    <tr>\n",
       "      <th>75%</th>\n",
       "      <td>0.400000</td>\n",
       "      <td>1.500000</td>\n",
       "      <td>2.300000</td>\n",
       "    </tr>\n",
       "    <tr>\n",
       "      <th>max</th>\n",
       "      <td>0.600000</td>\n",
       "      <td>1.800000</td>\n",
       "      <td>2.500000</td>\n",
       "    </tr>\n",
       "  </tbody>\n",
       "</table>\n",
       "</div>"
      ],
      "text/plain": [
       "species                setosa  versicolor  virginica\n",
       "sepal_length count  28.000000   28.000000  28.000000\n",
       "             mean    5.089286    5.896429   6.625000\n",
       "             std     0.360390    0.425556   0.532378\n",
       "             min     4.400000    4.900000   5.800000\n",
       "             25%     4.875000    5.600000   6.300000\n",
       "             50%     5.000000    5.800000   6.450000\n",
       "             75%     5.400000    6.125000   6.900000\n",
       "             max     5.800000    6.900000   7.900000\n",
       "sepal_width  count  28.000000   28.000000  28.000000\n",
       "             mean    3.467857    2.796429   2.960714\n",
       "             std     0.427788    0.280848   0.318956\n",
       "             min     2.300000    2.300000   2.200000\n",
       "             25%     3.275000    2.600000   2.800000\n",
       "             50%     3.400000    2.800000   3.000000\n",
       "             75%     3.800000    3.000000   3.100000\n",
       "             max     4.400000    3.400000   3.800000\n",
       "petal_length count  28.000000   28.000000  28.000000\n",
       "             mean    1.507143    4.271429   5.535714\n",
       "             std     0.184448    0.409930   0.496815\n",
       "             min     1.200000    3.300000   4.800000\n",
       "             25%     1.400000    4.000000   5.100000\n",
       "             50%     1.500000    4.250000   5.500000\n",
       "             75%     1.600000    4.525000   5.800000\n",
       "             max     1.900000    5.100000   6.900000\n",
       "petal_width  count  28.000000   28.000000  28.000000\n",
       "             mean    0.275000    1.314286   2.021429\n",
       "             std     0.120570    0.199470   0.293582\n",
       "             min     0.100000    1.000000   1.500000\n",
       "             25%     0.200000    1.200000   1.800000\n",
       "             50%     0.200000    1.300000   2.000000\n",
       "             75%     0.400000    1.500000   2.300000\n",
       "             max     0.600000    1.800000   2.500000"
      ]
     },
     "execution_count": 89,
     "metadata": {},
     "output_type": "execute_result"
    }
   ],
   "source": [
    "train.groupby('species').describe().T"
   ]
  },
  {
   "cell_type": "code",
   "execution_count": 101,
   "id": "7c13dcc4-62b5-43a3-9acd-46433ec1452f",
   "metadata": {},
   "outputs": [
    {
     "name": "stdout",
     "output_type": "stream",
     "text": [
      "Comparing virginica and versicolor:\n",
      "sepal_length:\n",
      "\tIs there a significant difference (p<alpha): True\n",
      "sepal_width:\n",
      "\tIs there a significant difference (p<alpha): False\n",
      "petal_length:\n",
      "\tIs there a significant difference (p<alpha): True\n",
      "petal_width:\n",
      "\tIs there a significant difference (p<alpha): True\n"
     ]
    }
   ],
   "source": [
    "a = 0.05\n",
    "print('Comparing virginica and versicolor:')\n",
    "for measurement_type in numerics:\n",
    "    print(f'{measurement_type}:')\n",
    "    u, p = stats.mannwhitneyu(train[measurement_type][train.species=='virginica'],train[measurement_type][train.species=='versicolor'])\n",
    "    print(\"\\tIs there a significant difference (p<alpha):\", p<a)"
   ]
  },
  {
   "cell_type": "markdown",
   "id": "384056aa-8310-46a3-9eb1-a1f7843c9de5",
   "metadata": {},
   "source": [
    "### Significant differences between virginica and versicolor for sepal length, petal length, and petal width\n",
    "### No significant differences between these species for sepal width\n",
    "### Actions: compare with 3rd species"
   ]
  },
  {
   "cell_type": "markdown",
   "id": "f8ef37c0-8515-4273-adb6-d675d02e0c4b",
   "metadata": {},
   "source": [
    "## Multivariate stats"
   ]
  },
  {
   "cell_type": "code",
   "execution_count": 104,
   "id": "ad4ccc5e-3ce4-42d7-bcfe-0a502a3cc766",
   "metadata": {},
   "outputs": [
    {
     "data": {
      "text/plain": [
       "<seaborn.axisgrid.PairGrid at 0x7fc791cdf610>"
      ]
     },
     "execution_count": 104,
     "metadata": {},
     "output_type": "execute_result"
    },
    {
     "data": {
      "image/png": "[encoded data removed]",
      "text/plain": [
       "<Figure size 804.75x720 with 20 Axes>"
      ]
     },
     "metadata": {
      "needs_background": "light"
     },
     "output_type": "display_data"
    }
   ],
   "source": [
    "sns.pairplot(data = train, hue = 'species')"
   ]
  },
  {
   "cell_type": "code",
   "execution_count": 105,
   "id": "5dbd9763-935a-45dc-8303-717996d6bea0",
   "metadata": {},
   "outputs": [
    {
     "data": {
      "text/plain": [
       "<seaborn.axisgrid.FacetGrid at 0x7fc774e53ee0>"
      ]
     },
     "execution_count": 105,
     "metadata": {},
     "output_type": "execute_result"
    },
    {
     "data": {
      "image/png": "[encoded data removed]",
      "text/plain": [
       "<Figure size 444.75x360 with 1 Axes>"
      ]
     },
     "metadata": {
      "needs_background": "light"
     },
     "output_type": "display_data"
    }
   ],
   "source": [
    "sns.relplot(data = train, x = 'sepal_width', y = 'sepal_length', hue='species')"
   ]
  },
  {
   "cell_type": "markdown",
   "id": "1287d8a9-a676-449d-87e2-67520fe686e6",
   "metadata": {},
   "source": [
    "Create a swarmplot using a melted dataframe of all your numeric variables. The x-axis should be the variable name, the y-axis the measure. Add another dimension using color to represent species. Document takeaways from this visualization."
   ]
  },
  {
   "cell_type": "code",
   "execution_count": 113,
   "id": "c08a0dc3-d9e9-4320-a2f7-c5dd56a9c708",
   "metadata": {},
   "outputs": [
    {
     "data": {
      "image/png": "[encoded data removed]",
      "text/plain": [
       "<Figure size 1152x648 with 1 Axes>"
      ]
     },
     "metadata": {
      "needs_background": "light"
     },
     "output_type": "display_data"
    }
   ],
   "source": [
    "melt = train.melt(id_vars='species', var_name='measurement')\n",
    "plt.figure(figsize=(16,9))\n",
    "p=sns.swarmplot(x='measurement',y='value',hue='species', data = melt)\n",
    "# p.set(yscale='log')"
   ]
  },
  {
   "cell_type": "markdown",
   "id": "a64a642e-9933-4f08-bf9e-73eaba6886f2",
   "metadata": {},
   "source": [
    "### Takeaways: \n",
    "    - spread for petal length and petal width between species is very apparent. Less so for sepal length but still present.\n",
    "    - sepal width: values are tightly clustered for all 3 species \n",
    "    - petal width for all 3 species is not widely distributed"
   ]
  },
  {
   "cell_type": "markdown",
   "id": "ddfa2b3f-0496-4b50-85d5-fb87f0270a91",
   "metadata": {},
   "source": []
  },
  {
   "cell_type": "markdown",
   "id": "2f27e0f7-d4a3-4f24-a238-0b988d9e652f",
   "metadata": {},
   "source": [
    "   \n",
    "\n",
    "\n",
    "3. Create 4 subplots (2 rows x 2 columns) of scatterplots.\n",
    "\n",
    "    - sepal_length x sepal_width\n",
    "    - petal_length x petal_width\n",
    "    - sepal_area x petal_area\n",
    "    - sepal_length x petal_length\n",
    "    \n",
    "    What are your takeaways?\n",
    "\n",
    "4. Create a heatmap of each variable layering correlation coefficient on top.\n",
    "\n",
    "5. Create a scatter matrix visualizing the interaction of each variable.\n",
    "\n",
    "6. Is the sepal length significantly different in virginica compared to versicolor? Run\n",
    "   a statistical experiment to test this.\n",
    "\n",
    "    Make sure to include a null hypothesis, alternative hypothesis, results, and summary.\n",
    "    \n",
    "    What is your takeaway from this statistical testing?\n",
    "    \n",
    "7. Create any other visualizations and run any other statistical tests you think will be helpful in exploring this data set."
   ]
  },
  {
   "cell_type": "code",
   "execution_count": null,
   "id": "ca9aa5a9-aaca-461e-b6d6-24764fef59b6",
   "metadata": {},
   "outputs": [],
   "source": []
  }
 ],
 "metadata": {
  "kernelspec": {
   "display_name": "Python 3.9.7 64-bit ('base': conda)",
   "language": "python",
   "name": "python397jvsc74a57bd038cca0c38332a56087b24af0bc80247f4fced29cb4f7f437d91dc159adec9c4e"
  },
  "language_info": {
   "codemirror_mode": {
    "name": "ipython",
    "version": 3
   },
   "file_extension": ".py",
   "mimetype": "text/x-python",
   "name": "python",
   "nbconvert_exporter": "python",
   "pygments_lexer": "ipython3",
   "version": "3.9.7"
  }
 },
 "nbformat": 4,
 "nbformat_minor": 5
}
